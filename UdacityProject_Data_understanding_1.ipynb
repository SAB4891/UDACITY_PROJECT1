{
 "cells": [
  {
   "cell_type": "code",
   "execution_count": 1,
   "id": "macro-notification",
   "metadata": {},
   "outputs": [],
   "source": [
    "import re\n",
    "import numpy as np\n",
    "import pandas as pd \n",
    "import seaborn as sns \n",
    "import matplotlib.pyplot as plt\n",
    "\n",
    "%matplotlib inline \n",
    "\n",
    "import warnings \n",
    "warnings.filterwarnings(\"ignore\")"
   ]
  },
  {
   "cell_type": "markdown",
   "id": "violent-peninsula",
   "metadata": {},
   "source": [
    "#### Gather & Asses "
   ]
  },
  {
   "cell_type": "code",
   "execution_count": 2,
   "id": "recovered-neighborhood",
   "metadata": {},
   "outputs": [
    {
     "data": {
      "text/plain": [
       "Index(['Respondent', 'MainBranch', 'Hobbyist', 'Age', 'Age1stCode', 'CompFreq',\n",
       "       'CompTotal', 'ConvertedComp', 'Country', 'CurrencyDesc',\n",
       "       'CurrencySymbol', 'DatabaseDesireNextYear', 'DatabaseWorkedWith',\n",
       "       'DevType', 'EdLevel', 'Employment', 'Ethnicity', 'Gender', 'JobFactors',\n",
       "       'JobSat', 'JobSeek', 'LanguageDesireNextYear', 'LanguageWorkedWith',\n",
       "       'MiscTechDesireNextYear', 'MiscTechWorkedWith',\n",
       "       'NEWCollabToolsDesireNextYear', 'NEWCollabToolsWorkedWith', 'NEWDevOps',\n",
       "       'NEWDevOpsImpt', 'NEWEdImpt', 'NEWJobHunt', 'NEWJobHuntResearch',\n",
       "       'NEWLearn', 'NEWOffTopic', 'NEWOnboardGood', 'NEWOtherComms',\n",
       "       'NEWOvertime', 'NEWPurchaseResearch', 'NEWPurpleLink', 'NEWSOSites',\n",
       "       'NEWStuck', 'OpSys', 'OrgSize', 'PlatformDesireNextYear',\n",
       "       'PlatformWorkedWith', 'PurchaseWhat', 'Sexuality', 'SOAccount',\n",
       "       'SOComm', 'SOPartFreq', 'SOVisitFreq', 'SurveyEase', 'SurveyLength',\n",
       "       'Trans', 'UndergradMajor', 'WebframeDesireNextYear',\n",
       "       'WebframeWorkedWith', 'WelcomeChange', 'WorkWeekHrs', 'YearsCode',\n",
       "       'YearsCodePro'],\n",
       "      dtype='object')"
      ]
     },
     "execution_count": 2,
     "metadata": {},
     "output_type": "execute_result"
    }
   ],
   "source": [
    "df2020 = pd.read_csv('survey_results2020.csv')\n",
    "df2020.columns"
   ]
  },
  {
   "cell_type": "code",
   "execution_count": 3,
   "id": "backed-bangladesh",
   "metadata": {},
   "outputs": [
    {
     "data": {
      "text/plain": [
       "array(['I am a developer by profession', 'I code primarily as a hobby',\n",
       "       'I used to be a developer by profession, but no longer am',\n",
       "       'I am not primarily a developer, but I write code sometimes as part of my work',\n",
       "       'I am a student who is learning to code', nan], dtype=object)"
      ]
     },
     "execution_count": 3,
     "metadata": {},
     "output_type": "execute_result"
    }
   ],
   "source": [
    "df2020.MainBranch.unique()"
   ]
  },
  {
   "cell_type": "code",
   "execution_count": 4,
   "id": "imperial-humanity",
   "metadata": {},
   "outputs": [
    {
     "data": {
      "text/plain": [
       "array(['Independent contractor, freelancer, or self-employed',\n",
       "       'Employed full-time', nan, 'Student',\n",
       "       'Not employed, but looking for work', 'Employed part-time',\n",
       "       'Retired', 'Not employed, and not looking for work'], dtype=object)"
      ]
     },
     "execution_count": 4,
     "metadata": {},
     "output_type": "execute_result"
    }
   ],
   "source": [
    "df2020.Employment.unique()"
   ]
  },
  {
   "cell_type": "code",
   "execution_count": 5,
   "id": "chicken-gossip",
   "metadata": {},
   "outputs": [
    {
     "data": {
      "text/plain": [
       "array(['Slightly satisfied', 'Very dissatisfied', nan,\n",
       "       'Slightly dissatisfied', 'Very satisfied',\n",
       "       'Neither satisfied nor dissatisfied'], dtype=object)"
      ]
     },
     "execution_count": 5,
     "metadata": {},
     "output_type": "execute_result"
    }
   ],
   "source": [
    "df2020.JobSat.unique()"
   ]
  },
  {
   "cell_type": "markdown",
   "id": "moving-kenya",
   "metadata": {},
   "source": [
    "***"
   ]
  },
  {
   "cell_type": "code",
   "execution_count": 40,
   "id": "stopped-trinity",
   "metadata": {},
   "outputs": [
    {
     "data": {
      "text/plain": [
       "85"
      ]
     },
     "execution_count": 40,
     "metadata": {},
     "output_type": "execute_result"
    }
   ],
   "source": [
    "df2019 = pd.read_csv('survey_results2019.csv')\n",
    "len(df2019.columns)"
   ]
  },
  {
   "cell_type": "code",
   "execution_count": 11,
   "id": "delayed-journalist",
   "metadata": {},
   "outputs": [
    {
     "data": {
      "text/plain": [
       "array(['I am a student who is learning to code',\n",
       "       'I am not primarily a developer, but I write code sometimes as part of my work',\n",
       "       'I am a developer by profession', 'I code primarily as a hobby',\n",
       "       'I used to be a developer by profession, but no longer am', nan],\n",
       "      dtype=object)"
      ]
     },
     "execution_count": 11,
     "metadata": {},
     "output_type": "execute_result"
    }
   ],
   "source": [
    "df2019.MainBranch.unique()"
   ]
  },
  {
   "cell_type": "code",
   "execution_count": 12,
   "id": "pointed-bolivia",
   "metadata": {},
   "outputs": [
    {
     "data": {
      "text/plain": [
       "array(['Not employed, and not looking for work',\n",
       "       'Not employed, but looking for work', 'Employed full-time',\n",
       "       'Independent contractor, freelancer, or self-employed', nan,\n",
       "       'Employed part-time', 'Retired'], dtype=object)"
      ]
     },
     "execution_count": 12,
     "metadata": {},
     "output_type": "execute_result"
    }
   ],
   "source": [
    "df2019.Employment.unique()"
   ]
  },
  {
   "cell_type": "code",
   "execution_count": 13,
   "id": "legal-force",
   "metadata": {},
   "outputs": [
    {
     "data": {
      "text/plain": [
       "array([nan, 'Slightly satisfied', 'Slightly dissatisfied',\n",
       "       'Neither satisfied nor dissatisfied', 'Very satisfied',\n",
       "       'Very dissatisfied'], dtype=object)"
      ]
     },
     "execution_count": 13,
     "metadata": {},
     "output_type": "execute_result"
    }
   ],
   "source": [
    "df2019.JobSat.unique()"
   ]
  },
  {
   "cell_type": "markdown",
   "id": "comparable-practitioner",
   "metadata": {},
   "source": [
    "***"
   ]
  },
  {
   "cell_type": "code",
   "execution_count": 14,
   "id": "literary-gauge",
   "metadata": {},
   "outputs": [
    {
     "data": {
      "text/plain": [
       "Index(['Respondent', 'Hobby', 'OpenSource', 'Country', 'Student', 'Employment',\n",
       "       'FormalEducation', 'UndergradMajor', 'CompanySize', 'DevType',\n",
       "       ...\n",
       "       'Exercise', 'Gender', 'SexualOrientation', 'EducationParents',\n",
       "       'RaceEthnicity', 'Age', 'Dependents', 'MilitaryUS', 'SurveyTooLong',\n",
       "       'SurveyEasy'],\n",
       "      dtype='object', length=129)"
      ]
     },
     "execution_count": 14,
     "metadata": {},
     "output_type": "execute_result"
    }
   ],
   "source": [
    "df2018 = pd.read_csv('survey_results2018.csv')\n",
    "df2018.columns"
   ]
  },
  {
   "cell_type": "code",
   "execution_count": 18,
   "id": "closing-secondary",
   "metadata": {},
   "outputs": [
    {
     "data": {
      "text/plain": [
       "Index(['Respondent', 'Hobby', 'OpenSource', 'Country', 'Student', 'Employment',\n",
       "       'FormalEducation', 'UndergradMajor', 'CompanySize', 'DevType',\n",
       "       'YearsCoding', 'YearsCodingProf', 'JobSatisfaction',\n",
       "       'CareerSatisfaction', 'HopeFiveYears', 'JobSearchStatus', 'LastNewJob',\n",
       "       'AssessJob1', 'AssessJob2', 'AssessJob3', 'AssessJob4', 'AssessJob5',\n",
       "       'AssessJob6', 'AssessJob7', 'AssessJob8', 'AssessJob9', 'AssessJob10',\n",
       "       'AssessBenefits1', 'AssessBenefits2', 'AssessBenefits3',\n",
       "       'AssessBenefits4', 'AssessBenefits5', 'AssessBenefits6',\n",
       "       'AssessBenefits7', 'AssessBenefits8', 'AssessBenefits9',\n",
       "       'AssessBenefits10', 'AssessBenefits11', 'JobContactPriorities1',\n",
       "       'JobContactPriorities2', 'JobContactPriorities3',\n",
       "       'JobContactPriorities4', 'JobContactPriorities5', 'JobEmailPriorities1',\n",
       "       'JobEmailPriorities2', 'JobEmailPriorities3', 'JobEmailPriorities4',\n",
       "       'JobEmailPriorities5', 'JobEmailPriorities6', 'JobEmailPriorities7'],\n",
       "      dtype='object')"
      ]
     },
     "execution_count": 18,
     "metadata": {},
     "output_type": "execute_result"
    }
   ],
   "source": [
    "df2018.columns[:50]"
   ]
  },
  {
   "cell_type": "code",
   "execution_count": 19,
   "id": "assisted-composite",
   "metadata": {},
   "outputs": [
    {
     "data": {
      "text/plain": [
       "Index(['UpdateCV', 'Currency', 'Salary', 'SalaryType', 'ConvertedSalary',\n",
       "       'CurrencySymbol', 'CommunicationTools', 'TimeFullyProductive',\n",
       "       'EducationTypes', 'SelfTaughtTypes', 'TimeAfterBootcamp',\n",
       "       'HackathonReasons', 'AgreeDisagree1', 'AgreeDisagree2',\n",
       "       'AgreeDisagree3', 'LanguageWorkedWith', 'LanguageDesireNextYear',\n",
       "       'DatabaseWorkedWith', 'DatabaseDesireNextYear', 'PlatformWorkedWith',\n",
       "       'PlatformDesireNextYear', 'FrameworkWorkedWith',\n",
       "       'FrameworkDesireNextYear', 'IDE', 'OperatingSystem', 'NumberMonitors',\n",
       "       'Methodology', 'VersionControl', 'CheckInCode', 'AdBlocker',\n",
       "       'AdBlockerDisable', 'AdBlockerReasons', 'AdsAgreeDisagree1',\n",
       "       'AdsAgreeDisagree2', 'AdsAgreeDisagree3', 'AdsActions',\n",
       "       'AdsPriorities1', 'AdsPriorities2', 'AdsPriorities3', 'AdsPriorities4',\n",
       "       'AdsPriorities5', 'AdsPriorities6', 'AdsPriorities7', 'AIDangerous',\n",
       "       'AIInteresting', 'AIResponsible', 'AIFuture', 'EthicsChoice',\n",
       "       'EthicsReport', 'EthicsResponsible', 'EthicalImplications',\n",
       "       'StackOverflowRecommend', 'StackOverflowVisit',\n",
       "       'StackOverflowHasAccount', 'StackOverflowParticipate',\n",
       "       'StackOverflowJobs', 'StackOverflowDevStory',\n",
       "       'StackOverflowJobsRecommend', 'StackOverflowConsiderMember',\n",
       "       'HypotheticalTools1', 'HypotheticalTools2', 'HypotheticalTools3',\n",
       "       'HypotheticalTools4', 'HypotheticalTools5', 'WakeTime', 'HoursComputer',\n",
       "       'HoursOutside', 'SkipMeals', 'ErgonomicDevices', 'Exercise', 'Gender',\n",
       "       'SexualOrientation', 'EducationParents', 'RaceEthnicity', 'Age',\n",
       "       'Dependents', 'MilitaryUS', 'SurveyTooLong', 'SurveyEasy'],\n",
       "      dtype='object')"
      ]
     },
     "execution_count": 19,
     "metadata": {},
     "output_type": "execute_result"
    }
   ],
   "source": [
    "df2018.columns[50:]"
   ]
  },
  {
   "cell_type": "code",
   "execution_count": 16,
   "id": "precise-powder",
   "metadata": {},
   "outputs": [
    {
     "data": {
      "text/plain": [
       "array(['Employed part-time', 'Employed full-time',\n",
       "       'Independent contractor, freelancer, or self-employed',\n",
       "       'Not employed, and not looking for work',\n",
       "       'Not employed, but looking for work', nan, 'Retired'], dtype=object)"
      ]
     },
     "execution_count": 16,
     "metadata": {},
     "output_type": "execute_result"
    }
   ],
   "source": [
    "df2018.Employment.unique()"
   ]
  },
  {
   "cell_type": "code",
   "execution_count": 17,
   "id": "anticipated-spring",
   "metadata": {
    "scrolled": true
   },
   "outputs": [
    {
     "data": {
      "text/plain": [
       "array(['Extremely satisfied', 'Moderately dissatisfied',\n",
       "       'Moderately satisfied', 'Neither satisfied nor dissatisfied',\n",
       "       'Slightly satisfied', nan, 'Slightly dissatisfied',\n",
       "       'Extremely dissatisfied'], dtype=object)"
      ]
     },
     "execution_count": 17,
     "metadata": {},
     "output_type": "execute_result"
    }
   ],
   "source": [
    "df2018.JobSatisfaction.unique()"
   ]
  },
  {
   "cell_type": "markdown",
   "id": "productive-median",
   "metadata": {},
   "source": [
    "***"
   ]
  },
  {
   "cell_type": "code",
   "execution_count": 20,
   "id": "confirmed-notice",
   "metadata": {},
   "outputs": [
    {
     "data": {
      "text/plain": [
       "Index(['Respondent', 'Professional', 'ProgramHobby', 'Country', 'University',\n",
       "       'EmploymentStatus', 'FormalEducation', 'MajorUndergrad', 'HomeRemote',\n",
       "       'CompanySize',\n",
       "       ...\n",
       "       'StackOverflowMakeMoney', 'Gender', 'HighestEducationParents', 'Race',\n",
       "       'SurveyLong', 'QuestionsInteresting', 'QuestionsConfusing',\n",
       "       'InterestedAnswers', 'Salary', 'ExpectedSalary'],\n",
       "      dtype='object', length=154)"
      ]
     },
     "execution_count": 20,
     "metadata": {},
     "output_type": "execute_result"
    }
   ],
   "source": [
    "df2017 = pd.read_csv('survey_results2017.csv')\n",
    "df2017.columns"
   ]
  },
  {
   "cell_type": "code",
   "execution_count": 21,
   "id": "eight-guide",
   "metadata": {},
   "outputs": [
    {
     "data": {
      "text/plain": [
       "Index(['Respondent', 'Professional', 'ProgramHobby', 'Country', 'University',\n",
       "       'EmploymentStatus', 'FormalEducation', 'MajorUndergrad', 'HomeRemote',\n",
       "       'CompanySize', 'CompanyType', 'YearsProgram', 'YearsCodedJob',\n",
       "       'YearsCodedJobPast', 'DeveloperType', 'WebDeveloperType',\n",
       "       'MobileDeveloperType', 'NonDeveloperType', 'CareerSatisfaction',\n",
       "       'JobSatisfaction', 'ExCoderReturn', 'ExCoderNotForMe', 'ExCoderBalance',\n",
       "       'ExCoder10Years', 'ExCoderBelonged', 'ExCoderSkills',\n",
       "       'ExCoderWillNotCode', 'ExCoderActive', 'PronounceGIF', 'ProblemSolving',\n",
       "       'BuildingThings', 'LearningNewTech', 'BoringDetails', 'JobSecurity',\n",
       "       'DiversityImportant', 'AnnoyingUI', 'FriendsDevelopers',\n",
       "       'RightWrongWay', 'UnderstandComputers', 'SeriousWork',\n",
       "       'InvestTimeTools', 'WorkPayCare', 'KinshipDevelopers',\n",
       "       'ChallengeMyself', 'CompetePeers', 'ChangeWorld', 'JobSeekingStatus',\n",
       "       'HoursPerWeek', 'LastNewJob', 'AssessJobIndustry'],\n",
       "      dtype='object')"
      ]
     },
     "execution_count": 21,
     "metadata": {},
     "output_type": "execute_result"
    }
   ],
   "source": [
    "df2017.columns[:50]"
   ]
  },
  {
   "cell_type": "code",
   "execution_count": 22,
   "id": "generic-alfred",
   "metadata": {},
   "outputs": [
    {
     "data": {
      "text/plain": [
       "Index(['AssessJobRole', 'AssessJobExp', 'AssessJobDept', 'AssessJobTech',\n",
       "       'AssessJobProjects', 'AssessJobCompensation', 'AssessJobOffice',\n",
       "       'AssessJobCommute', 'AssessJobRemote', 'AssessJobLeaders',\n",
       "       'AssessJobProfDevel', 'AssessJobDiversity', 'AssessJobProduct',\n",
       "       'AssessJobFinances', 'ImportantBenefits', 'ClickyKeys', 'JobProfile',\n",
       "       'ResumePrompted', 'LearnedHiring', 'ImportantHiringAlgorithms',\n",
       "       'ImportantHiringTechExp', 'ImportantHiringCommunication',\n",
       "       'ImportantHiringOpenSource', 'ImportantHiringPMExp',\n",
       "       'ImportantHiringCompanies', 'ImportantHiringTitles',\n",
       "       'ImportantHiringEducation', 'ImportantHiringRep',\n",
       "       'ImportantHiringGettingThingsDone', 'Currency', 'Overpaid',\n",
       "       'TabsSpaces', 'EducationImportant', 'EducationTypes', 'SelfTaughtTypes',\n",
       "       'TimeAfterBootcamp', 'CousinEducation', 'WorkStart',\n",
       "       'HaveWorkedLanguage', 'WantWorkLanguage', 'HaveWorkedFramework',\n",
       "       'WantWorkFramework', 'HaveWorkedDatabase', 'WantWorkDatabase',\n",
       "       'HaveWorkedPlatform', 'WantWorkPlatform', 'IDE', 'AuditoryEnvironment',\n",
       "       'Methodology', 'VersionControl'],\n",
       "      dtype='object')"
      ]
     },
     "execution_count": 22,
     "metadata": {},
     "output_type": "execute_result"
    }
   ],
   "source": [
    "df2017.columns[50:100]"
   ]
  },
  {
   "cell_type": "code",
   "execution_count": 23,
   "id": "documented-brazil",
   "metadata": {},
   "outputs": [
    {
     "data": {
      "text/plain": [
       "Index(['CheckInCode', 'ShipIt', 'OtherPeoplesCode', 'ProjectManagement',\n",
       "       'EnjoyDebugging', 'InTheZone', 'DifficultCommunication',\n",
       "       'CollaborateRemote', 'MetricAssess', 'EquipmentSatisfiedMonitors',\n",
       "       'EquipmentSatisfiedCPU', 'EquipmentSatisfiedRAM',\n",
       "       'EquipmentSatisfiedStorage', 'EquipmentSatisfiedRW',\n",
       "       'InfluenceInternet', 'InfluenceWorkstation', 'InfluenceHardware',\n",
       "       'InfluenceServers', 'InfluenceTechStack', 'InfluenceDeptTech',\n",
       "       'InfluenceVizTools', 'InfluenceDatabase', 'InfluenceCloud',\n",
       "       'InfluenceConsultants', 'InfluenceRecruitment',\n",
       "       'InfluenceCommunication', 'StackOverflowDescribes',\n",
       "       'StackOverflowSatisfaction', 'StackOverflowDevices',\n",
       "       'StackOverflowFoundAnswer', 'StackOverflowCopiedCode',\n",
       "       'StackOverflowJobListing', 'StackOverflowCompanyPage',\n",
       "       'StackOverflowJobSearch', 'StackOverflowNewQuestion',\n",
       "       'StackOverflowAnswer', 'StackOverflowMetaChat',\n",
       "       'StackOverflowAdsRelevant', 'StackOverflowAdsDistracting',\n",
       "       'StackOverflowModeration', 'StackOverflowCommunity',\n",
       "       'StackOverflowHelpful', 'StackOverflowBetter', 'StackOverflowWhatDo',\n",
       "       'StackOverflowMakeMoney', 'Gender', 'HighestEducationParents', 'Race',\n",
       "       'SurveyLong', 'QuestionsInteresting', 'QuestionsConfusing',\n",
       "       'InterestedAnswers', 'Salary', 'ExpectedSalary'],\n",
       "      dtype='object')"
      ]
     },
     "execution_count": 23,
     "metadata": {},
     "output_type": "execute_result"
    }
   ],
   "source": [
    "df2017.columns[100:]"
   ]
  },
  {
   "cell_type": "code",
   "execution_count": 26,
   "id": "oriental-burner",
   "metadata": {},
   "outputs": [
    {
     "data": {
      "text/plain": [
       "array(['Not employed, and not looking for work', 'Employed part-time',\n",
       "       'Employed full-time',\n",
       "       'Independent contractor, freelancer, or self-employed',\n",
       "       'Not employed, but looking for work', 'I prefer not to say',\n",
       "       'Retired'], dtype=object)"
      ]
     },
     "execution_count": 26,
     "metadata": {},
     "output_type": "execute_result"
    }
   ],
   "source": [
    "df2017.EmploymentStatus.unique()"
   ]
  },
  {
   "cell_type": "code",
   "execution_count": 24,
   "id": "rational-secret",
   "metadata": {
    "scrolled": true
   },
   "outputs": [
    {
     "data": {
      "text/plain": [
       "array([nan,  9.,  3.,  8.,  6.,  7.,  5.,  4., 10.,  2.,  0.,  1.])"
      ]
     },
     "execution_count": 24,
     "metadata": {},
     "output_type": "execute_result"
    }
   ],
   "source": [
    "df2017.JobSatisfaction.unique()"
   ]
  },
  {
   "cell_type": "markdown",
   "id": "played-greene",
   "metadata": {},
   "source": [
    "***"
   ]
  },
  {
   "cell_type": "code",
   "execution_count": 27,
   "id": "endangered-invasion",
   "metadata": {
    "scrolled": true
   },
   "outputs": [
    {
     "data": {
      "text/plain": [
       "Index(['Unnamed: 0', 'collector', 'country', 'un_subregion', 'so_region',\n",
       "       'age_range', 'age_midpoint', 'gender', 'self_identification',\n",
       "       'occupation', 'occupation_group', 'experience_range',\n",
       "       'experience_midpoint', 'salary_range', 'salary_midpoint',\n",
       "       'big_mac_index', 'tech_do', 'tech_want', 'aliens',\n",
       "       'programming_ability', 'employment_status', 'industry',\n",
       "       'company_size_range', 'team_size_range', 'women_on_team', 'remote',\n",
       "       'job_satisfaction', 'job_discovery', 'dev_environment',\n",
       "       'commit_frequency', 'hobby', 'dogs_vs_cats', 'desktop_os',\n",
       "       'unit_testing', 'rep_range', 'visit_frequency', 'why_learn_new_tech',\n",
       "       'education', 'open_to_new_job', 'new_job_value', 'job_search_annoyance',\n",
       "       'interview_likelihood', 'how_to_improve_interview_process',\n",
       "       'star_wars_vs_star_trek', 'agree_tech', 'agree_notice',\n",
       "       'agree_problemsolving', 'agree_diversity', 'agree_adblocker',\n",
       "       'agree_alcohol', 'agree_loveboss', 'agree_nightcode', 'agree_legacy',\n",
       "       'agree_mars', 'important_variety', 'important_control',\n",
       "       'important_sameend', 'important_newtech', 'important_buildnew',\n",
       "       'important_buildexisting', 'important_promotion',\n",
       "       'important_companymission', 'important_wfh', 'important_ownoffice',\n",
       "       'developer_challenges', 'why_stack_overflow'],\n",
       "      dtype='object')"
      ]
     },
     "execution_count": 27,
     "metadata": {},
     "output_type": "execute_result"
    }
   ],
   "source": [
    "df2016 = pd.read_csv('survey_results2016.csv')\n",
    "df2016.columns"
   ]
  },
  {
   "cell_type": "code",
   "execution_count": 30,
   "id": "professional-prisoner",
   "metadata": {},
   "outputs": [
    {
     "data": {
      "text/plain": [
       "array([nan, 'Employed full-time', 'Freelance / Contractor',\n",
       "       'Self-employed', \"I'm a student\", 'Unemployed',\n",
       "       'Prefer not to disclose', 'Employed part-time',\n",
       "       'Other (please specify)', 'Retired'], dtype=object)"
      ]
     },
     "execution_count": 30,
     "metadata": {},
     "output_type": "execute_result"
    }
   ],
   "source": [
    "df2016.employment_status.unique()"
   ]
  },
  {
   "cell_type": "code",
   "execution_count": 28,
   "id": "entitled-beijing",
   "metadata": {
    "scrolled": false
   },
   "outputs": [
    {
     "data": {
      "text/plain": [
       "array([nan, 'I love my job', \"I don't have a job\",\n",
       "       \"I'm somewhat satisfied with my job\",\n",
       "       \"I'm somewhat dissatisfied with my job\",\n",
       "       \"I'm neither satisfied nor dissatisfied\", 'Other (please specify)',\n",
       "       'I hate my job'], dtype=object)"
      ]
     },
     "execution_count": 28,
     "metadata": {},
     "output_type": "execute_result"
    }
   ],
   "source": [
    "df2016.job_satisfaction.unique()"
   ]
  },
  {
   "cell_type": "markdown",
   "id": "governing-maryland",
   "metadata": {},
   "source": [
    "***"
   ]
  },
  {
   "cell_type": "code",
   "execution_count": 32,
   "id": "remarkable-reading",
   "metadata": {
    "scrolled": true
   },
   "outputs": [
    {
     "data": {
      "text/plain": [
       "Index(['Country', 'Age', 'Gender', 'Tabs or Spaces',\n",
       "       'Years IT / Programming Experience', 'Occupation',\n",
       "       'Desktop Operating System', 'Desktop Operating System: write-in',\n",
       "       'Current Lang & Tech: Android', 'Current Lang & Tech: Arduino',\n",
       "       ...\n",
       "       'Why use Stack Overflow: I don't use Stack Overflow',\n",
       "       'How often are Stack Overflow's answers helpful',\n",
       "       'Why answer: Help a programmer in need',\n",
       "       'Why answer: Help future programmers',\n",
       "       'Why answer: Demonstrate expertise', 'Why answer: Self promotion',\n",
       "       'Why answer: Sense of responsibility to developers',\n",
       "       'Why answer: No idea', 'Why answer: I don't answer and I don't want to',\n",
       "       'Why answer: I don't answer but I want to'],\n",
       "      dtype='object', length=222)"
      ]
     },
     "execution_count": 32,
     "metadata": {},
     "output_type": "execute_result"
    }
   ],
   "source": [
    "df2015 = pd.read_csv('survey_results2015.csv', header=1)\n",
    "df2015.columns"
   ]
  },
  {
   "cell_type": "code",
   "execution_count": 33,
   "id": "handled-garlic",
   "metadata": {},
   "outputs": [
    {
     "data": {
      "text/plain": [
       "Index(['Country', 'Age', 'Gender', 'Tabs or Spaces',\n",
       "       'Years IT / Programming Experience', 'Occupation',\n",
       "       'Desktop Operating System', 'Desktop Operating System: write-in',\n",
       "       'Current Lang & Tech: Android', 'Current Lang & Tech: Arduino',\n",
       "       'Current Lang & Tech: AngularJS', 'Current Lang & Tech: C',\n",
       "       'Current Lang & Tech: C++', 'Current Lang & Tech: C++11',\n",
       "       'Current Lang & Tech: C#', 'Current Lang & Tech: Cassandra',\n",
       "       'Current Lang & Tech: CoffeeScript', 'Current Lang & Tech: Cordova',\n",
       "       'Current Lang & Tech: Clojure', 'Current Lang & Tech: Cloud',\n",
       "       'Current Lang & Tech: Dart', 'Current Lang & Tech: F#',\n",
       "       'Current Lang & Tech: Go', 'Current Lang & Tech: Hadoop',\n",
       "       'Current Lang & Tech: Haskell', 'Current Lang & Tech: iOS',\n",
       "       'Current Lang & Tech: Java', 'Current Lang & Tech: JavaScript',\n",
       "       'Current Lang & Tech: LAMP', 'Current Lang & Tech: Matlab',\n",
       "       'Current Lang & Tech: MongoDB', 'Current Lang & Tech: Node.js',\n",
       "       'Current Lang & Tech: Objective-C', 'Current Lang & Tech: Perl',\n",
       "       'Current Lang & Tech: PHP', 'Current Lang & Tech: Python',\n",
       "       'Current Lang & Tech: R', 'Current Lang & Tech: Redis',\n",
       "       'Current Lang & Tech: Ruby', 'Current Lang & Tech: Rust',\n",
       "       'Current Lang & Tech: Salesforce', 'Current Lang & Tech: Scala',\n",
       "       'Current Lang & Tech: Sharepoint', 'Current Lang & Tech: Spark',\n",
       "       'Current Lang & Tech: SQL', 'Current Lang & Tech: SQL Server',\n",
       "       'Current Lang & Tech: Swift', 'Current Lang & Tech: Visual Basic',\n",
       "       'Current Lang & Tech: Windows Phone', 'Current Lang & Tech: Wordpress'],\n",
       "      dtype='object')"
      ]
     },
     "execution_count": 33,
     "metadata": {},
     "output_type": "execute_result"
    }
   ],
   "source": [
    "df2015.columns[:50]"
   ]
  },
  {
   "cell_type": "code",
   "execution_count": 34,
   "id": "noticed-disability",
   "metadata": {
    "scrolled": false
   },
   "outputs": [
    {
     "data": {
      "text/plain": [
       "Index(['Current Lang & Tech: Write-In', 'Future Lang & Tech: Android',\n",
       "       'Future Lang & Tech: Arduino', 'Future Lang & Tech: AngularJS',\n",
       "       'Future Lang & Tech: C', 'Future Lang & Tech: C++',\n",
       "       'Future Lang & Tech: C++11', 'Future Lang & Tech: C#',\n",
       "       'Future Lang & Tech: Cassandra', 'Future Lang & Tech: CoffeeScript',\n",
       "       'Future Lang & Tech: Cordova', 'Future Lang & Tech: Clojure',\n",
       "       'Future Lang & Tech: Cloud', 'Future Lang & Tech: Dart',\n",
       "       'Future Lang & Tech: F#', 'Future Lang & Tech: Go',\n",
       "       'Future Lang & Tech: Hadoop', 'Future Lang & Tech: Haskell',\n",
       "       'Future Lang & Tech: iOS', 'Future Lang & Tech: Java',\n",
       "       'Future Lang & Tech: JavaScript', 'Future Lang & Tech: LAMP',\n",
       "       'Future Lang & Tech: Matlab', 'Future Lang & Tech: MongoDB',\n",
       "       'Future Lang & Tech: Node.js', 'Future Lang & Tech: Objective-C',\n",
       "       'Future Lang & Tech: Perl', 'Future Lang & Tech: PHP',\n",
       "       'Future Lang & Tech: Python', 'Future Lang & Tech: R',\n",
       "       'Future Lang & Tech: Redis', 'Future Lang & Tech: Ruby',\n",
       "       'Future Lang & Tech: Rust', 'Future Lang & Tech: Salesforce',\n",
       "       'Future Lang & Tech: Scala', 'Future Lang & Tech: Sharepoint',\n",
       "       'Future Lang & Tech: Spark', 'Future Lang & Tech: SQL',\n",
       "       'Future Lang & Tech: SQL Server', 'Future Lang & Tech: Swift',\n",
       "       'Future Lang & Tech: Visual Basic', 'Future Lang & Tech: Windows Phone',\n",
       "       'Future Lang & Tech: Wordpress', 'Future Lang & Tech: Write-In',\n",
       "       'Training & Education: No formal training',\n",
       "       'Training & Education: On the job',\n",
       "       'Training & Education: Boot camp or night school',\n",
       "       'Training & Education: Online Class',\n",
       "       'Training & Education: Mentorship',\n",
       "       'Training & Education: Industry certification'],\n",
       "      dtype='object')"
      ]
     },
     "execution_count": 34,
     "metadata": {},
     "output_type": "execute_result"
    }
   ],
   "source": [
    "df2015.columns[50:100]"
   ]
  },
  {
   "cell_type": "code",
   "execution_count": 35,
   "id": "classified-filename",
   "metadata": {},
   "outputs": [
    {
     "data": {
      "text/plain": [
       "Index(['Training & Education: Some college, but no CS degree',\n",
       "       'Training & Education: BS in CS', 'Training & Education: Masters in CS',\n",
       "       'Training & Education: PhD in CS', 'Training & Education: Other',\n",
       "       'Compensation', 'Compensation: midpoint', 'Employment Status',\n",
       "       'Industry', 'Job Satisfaction', 'Purchasing Power', 'Remote Status',\n",
       "       'Changed Jobs in last 12 Months', 'Open to new job opportunities',\n",
       "       'Most important aspect of new job opportunity: Salary',\n",
       "       'Most important aspect of new job opportunity: Equity',\n",
       "       'Most important aspect of new job opportunity: Important decisions',\n",
       "       'Most important aspect of new job opportunity: Health insurance',\n",
       "       'Most important aspect of new job opportunity: Industry',\n",
       "       'Most important aspect of new job opportunity: Tech stack',\n",
       "       'Most important aspect of new job opportunity: Company size',\n",
       "       'Most important aspect of new job opportunity: Company stage',\n",
       "       'Most important aspect of new job opportunity: Work - Life balance',\n",
       "       'Most important aspect of new job opportunity: Advancement',\n",
       "       'Most important aspect of new job opportunity: Job title',\n",
       "       'Most important aspect of new job opportunity: Office location',\n",
       "       'Most important aspect of new job opportunity: Quality of colleagues',\n",
       "       'Most important aspect of new job opportunity: Company culture',\n",
       "       'Most important aspect of new job opportunity: Company reputation',\n",
       "       'Most important aspect of new job opportunity: Building something that matters',\n",
       "       'Most important aspect of new job opportunity: Remote working',\n",
       "       'Most important aspect of new job opportunity: Flexible work options',\n",
       "       'How important is remote when evaluating new job opportunity?',\n",
       "       'Most annoying about job search: Finding time',\n",
       "       'Most annoying about job search: Finding job I'm qualified for',\n",
       "       'Most annoying about job search: Finding interesting job',\n",
       "       'Most annoying about job search: Interesting companies rarely respond',\n",
       "       'Most annoying about job search: Writing and updating CV',\n",
       "       'Most annoying about job search: Taking time off work to interview',\n",
       "       'Most annoying about job search: The Interview',\n",
       "       'How often contacted by recruiters', 'Perception of recruiter contact',\n",
       "       'Perception of contact form: Email',\n",
       "       'Perception of contact form: LinkedIn',\n",
       "       'Perception of contact form: Xing', 'Perception of contact form: Phone',\n",
       "       'Perception of contact form: Stack Overflow Careers',\n",
       "       'Perception of contact form: Twitter',\n",
       "       'Perception of contact form: Facebook',\n",
       "       'Appealing message traits: Message is personalized'],\n",
       "      dtype='object')"
      ]
     },
     "execution_count": 35,
     "metadata": {},
     "output_type": "execute_result"
    }
   ],
   "source": [
    "df2015.columns[100:150]"
   ]
  },
  {
   "cell_type": "code",
   "execution_count": 36,
   "id": "fantastic-substance",
   "metadata": {},
   "outputs": [
    {
     "data": {
      "text/plain": [
       "Index(['Appealing message traits: Code or projects mentioned',\n",
       "       'Appealing message traits: Stack Overflow activity mentioned',\n",
       "       'Appealing message traits: Team described',\n",
       "       'Appealing message traits: Company culture described',\n",
       "       'Appealing message traits: Salary information',\n",
       "       'Appealing message traits: Benefits & Perks',\n",
       "       'Appealing message traits: Stack Overflow Company Page',\n",
       "       'Most urgent info about job opportunity: Salary',\n",
       "       'Most urgent info about job opportunity: Benefits',\n",
       "       'Most urgent info about job opportunity: Company name',\n",
       "       'Most urgent info about job opportunity: Tech stack',\n",
       "       'Most urgent info about job opportunity: Office location',\n",
       "       'Most urgent info about job opportunity: Job title',\n",
       "       'Most urgent info about job opportunity: Colleagues',\n",
       "       'Most urgent info about job opportunity: Product details',\n",
       "       'Who do you want to communicate with about a new job opportunity: Headhunter',\n",
       "       'Who do you want to communicate with about a new job opportunity: In-house recruiter',\n",
       "       'Who do you want to communicate with about a new job opportunity: In-house tech recruiter',\n",
       "       'Who do you want to communicate with about a new job opportunity: Manager',\n",
       "       'Who do you want to communicate with about a new job opportunity: Developer',\n",
       "       'How can companies improve interview process: More live code',\n",
       "       'How can companies improve interview process: Flexible interview schedule',\n",
       "       'How can companies improve interview process: Remote interviews',\n",
       "       'How can companies improve interview process: Introduce me to boss',\n",
       "       'How can companies improve interview process: Introduce me to team',\n",
       "       'How can companies improve interview process: Gimme coffee',\n",
       "       'How can companies improve interview process: Show me workplace',\n",
       "       'How can companies improve interview process: Fewer brainteasers',\n",
       "       'How can companies improve interview process: Better preparation',\n",
       "       'Why try Stack Overflow Careers: No spam',\n",
       "       'Why try Stack Overflow Careers: Jobs site for programmers',\n",
       "       'Why try Stack Overflow Careers: Selection of revelant jobs',\n",
       "       'Why try Stack Overflow Careers: Showcase Stack Overflow activity',\n",
       "       'Why try Stack Overflow Careers: Jobs are on Stack Overflow',\n",
       "       'Why try Stack Overflow Careers: Other',\n",
       "       'How many caffeinated beverages per day?',\n",
       "       'How many hours programming as hobby per week?',\n",
       "       'How frequently land on or read Stack Overflow',\n",
       "       'Preferred text editor', 'Preferred text editor: write-in',\n",
       "       'Prefered IDE theme', 'Source control used: Git',\n",
       "       'Source control used: Mercurial', 'Source control used: SVN',\n",
       "       'Source control used: CVS', 'Source control used: Perforce',\n",
       "       'Source control used: TFS', 'Source control used: DCVS',\n",
       "       'Source control used: Bitkeeper',\n",
       "       'Source control used: Legacy / Custom'],\n",
       "      dtype='object')"
      ]
     },
     "execution_count": 36,
     "metadata": {},
     "output_type": "execute_result"
    }
   ],
   "source": [
    "df2015.columns[150:200]"
   ]
  },
  {
   "cell_type": "code",
   "execution_count": 37,
   "id": "restricted-tuition",
   "metadata": {},
   "outputs": [
    {
     "data": {
      "text/plain": [
       "Index(['Source control used: I don't use source control',\n",
       "       'Source control used: write-in', 'Prefered Source Control',\n",
       "       'Prefered Source Control: write-in',\n",
       "       'Why use Stack Overflow: Help for job',\n",
       "       'Why use Stack Overflow: To give help',\n",
       "       'Why use Stack Overflow: Can't do job without it',\n",
       "       'Why use Stack Overflow: Maintain online presence',\n",
       "       'Why use Stack Overflow: Demonstrate expertise',\n",
       "       'Why use Stack Overflow: Communicate with others',\n",
       "       'Why use Stack Overflow: Receive help on personal projects',\n",
       "       'Why use Stack Overflow: Love to learn',\n",
       "       'Why use Stack Overflow: I don't use Stack Overflow',\n",
       "       'How often are Stack Overflow's answers helpful',\n",
       "       'Why answer: Help a programmer in need',\n",
       "       'Why answer: Help future programmers',\n",
       "       'Why answer: Demonstrate expertise', 'Why answer: Self promotion',\n",
       "       'Why answer: Sense of responsibility to developers',\n",
       "       'Why answer: No idea', 'Why answer: I don't answer and I don't want to',\n",
       "       'Why answer: I don't answer but I want to'],\n",
       "      dtype='object')"
      ]
     },
     "execution_count": 37,
     "metadata": {},
     "output_type": "execute_result"
    }
   ],
   "source": [
    "df2015.columns[200:]"
   ]
  },
  {
   "cell_type": "code",
   "execution_count": 38,
   "id": "registered-bundle",
   "metadata": {},
   "outputs": [
    {
     "data": {
      "text/plain": [
       "array(['Employed full-time', 'Freelance / Contractor',\n",
       "       'Employed part-time', 'Other', nan, \"I'm a student\", 'Unemployed',\n",
       "       'Prefer not to disclose', 'Retired'], dtype=object)"
      ]
     },
     "execution_count": 38,
     "metadata": {},
     "output_type": "execute_result"
    }
   ],
   "source": [
    "df2015['Employment Status'].unique()"
   ]
  },
  {
   "cell_type": "code",
   "execution_count": 39,
   "id": "technical-faculty",
   "metadata": {},
   "outputs": [
    {
     "data": {
      "text/plain": [
       "array([\"I'm somewhat satisfied with my job\",\n",
       "       \"I'm neither satisfied nor dissatisfied with my job\",\n",
       "       'I love my job', \"I'm somewhat dissatisfied with my job\",\n",
       "       'I hate my job', 'Other (please specify)', nan], dtype=object)"
      ]
     },
     "execution_count": 39,
     "metadata": {},
     "output_type": "execute_result"
    }
   ],
   "source": [
    "df2015['Job Satisfaction'].unique()"
   ]
  }
 ],
 "metadata": {
  "kernelspec": {
   "display_name": "Python 3",
   "language": "python",
   "name": "python3"
  },
  "language_info": {
   "codemirror_mode": {
    "name": "ipython",
    "version": 3
   },
   "file_extension": ".py",
   "mimetype": "text/x-python",
   "name": "python",
   "nbconvert_exporter": "python",
   "pygments_lexer": "ipython3",
   "version": "3.6.12"
  }
 },
 "nbformat": 4,
 "nbformat_minor": 5
}

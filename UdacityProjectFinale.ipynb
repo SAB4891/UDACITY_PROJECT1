{
 "cells": [
  {
   "cell_type": "code",
   "execution_count": 1,
   "id": "vietnamese-pulse",
   "metadata": {},
   "outputs": [],
   "source": [
    "import re\n",
    "import pandas as pd \n",
    "import numpy as np \n",
    "import matplotlib.pyplot as plt \n",
    "import seaborn as sns\n",
    "import matplotlib.ticker as ticker\n",
    "import scipy.stats as stats\n",
    "\n",
    "%matplotlib inline \n",
    "import warnings \n",
    "warnings.filterwarnings(\"ignore\")"
   ]
  },
  {
   "cell_type": "code",
   "execution_count": 2,
   "id": "middle-theory",
   "metadata": {},
   "outputs": [],
   "source": [
    " def col_name(a):\n",
    "            \n",
    "        \"\"\" function to find the colname in a data set that contains the Prog. Languages, since the col names\n",
    "        are different from one data set to another\"\"\"\n",
    "        \n",
    "        # creating list of columns name\n",
    "        mylist = [i for i in list(a)]\n",
    "        \n",
    "        #Prog. Lang. column name differ from a year to another\n",
    "        pattern =[\".*WorkedLanguage\", \"tech_do\", \"LanguageWorked*.\"] \n",
    "    \n",
    "        for pat in pattern:\n",
    "            #for each patter check if there is a match in the col. list and add to a list\n",
    "            r = re.compile(pat)  \n",
    "            newlist = list(filter(r.match, mylist)) \n",
    "        \n",
    "            if len(newlist) >0:       # if the len of the new list is >0(contains an element)->break the loop\n",
    "                                      #we have found the col. \n",
    "                    col = newlist[0]\n",
    "                    break\n",
    "                    \n",
    "        return col "
   ]
  },
  {
   "cell_type": "code",
   "execution_count": 3,
   "id": "civic-chain",
   "metadata": {},
   "outputs": [],
   "source": [
    "def Prog_Lang_list(a):\n",
    "        \n",
    "    \"\"\" function to create a list of the unique programming names in the data set and \n",
    "    re-arrange it, extract unique values according to current format in Prog. Lang. values in rows\"\"\"\n",
    "    \n",
    "    #creating a list of unique programming languges from the colum\n",
    "    languages = list(a.unique())\n",
    "        \n",
    "    #remove nan from list of languages\n",
    "    languages = [x for x in languages if str(x) != 'nan']\n",
    "        \n",
    "    #spliting the strings in each row of programing languages separated with ';' e.g. 'C#;HTML/CSS;JavaScript'\n",
    "    Prog_Lang = []\n",
    "    for i in range(0, len(languages)-1):\n",
    "        element = languages[i].split(';')\n",
    "        Prog_Lang += element\n",
    "        \n",
    "    # lower the strings and remove white spaces \n",
    "    Prog_Lang = [x.lower().replace(\" \", \"\") for x in Prog_Lang]\n",
    "        \n",
    "    # removing redundant programing languges from the list \n",
    "    Prog_Lang= set(Prog_Lang)\n",
    "    Prog_Lang= list(Prog_Lang)\n",
    "    return Prog_Lang"
   ]
  },
  {
   "cell_type": "code",
   "execution_count": 4,
   "id": "moderate-major",
   "metadata": {},
   "outputs": [],
   "source": [
    "def read_csv2015(a):\n",
    "    \n",
    "    \"\"\" function to read the csv file of 2015 and extract Prog. Lang. names and\n",
    "    create a data frame of prog. lang. and their counts\"\"\"\n",
    "    \n",
    "    file= 'survey_results'+a+'.csv'\n",
    "    df= pd.read_csv(file, header=1)\n",
    "            \n",
    "    #extracting the current tech and langu. columns \n",
    "    mylist = [i for i in list(df.columns)]\n",
    "    r = re.compile(\"Current*.\")\n",
    "    newlist = list(filter(r.match, mylist))\n",
    "            \n",
    "    #slicing the dataframe according the the columns \n",
    "    df= df[newlist]\n",
    "            \n",
    "    #filling NaN with zeros \n",
    "    df = df.fillna(0)\n",
    "            \n",
    "    #converting the columns to one and zeros \n",
    "            \n",
    "    df = df.astype(bool).astype(int)\n",
    "            \n",
    "    #changing columns names/extracting the tech/lang, name\n",
    "            \n",
    "    df.columns = [i.split(':')[1].strip() for i in df.columns]\n",
    "            \n",
    "            \n",
    "    #creating a df and counting the lang/tech in rows \n",
    "    PrLang = list(df.sum(axis=0).sort_values().reset_index()['index'])\n",
    "        \n",
    "    count = list(df.sum(axis=0).sort_values().reset_index()[0])\n",
    "        \n",
    "    dfLang= pd.DataFrame({'PrLang':PrLang, 'count':count})\n",
    "    \n",
    "    return dfLang"
   ]
  },
  {
   "cell_type": "code",
   "execution_count": 5,
   "id": "electronic-correspondence",
   "metadata": {},
   "outputs": [],
   "source": [
    " def read_csv(a):\n",
    "        \n",
    "    \"\"\" function to read the csv file of any year from 2016 to 2020 and extract Prog. Lang. names and\n",
    "    create a data frame of prog. lang. and their counts\"\"\"\n",
    "    \n",
    "    file= 'survey_results'+a+'.csv'\n",
    "        \n",
    "    df= pd.read_csv(file)\n",
    "        \n",
    "    #extracting the column name of programming languages with predefined function\n",
    "    \"\"\" predefined function\"\"\"\n",
    "    colName = col_name(df.columns)\n",
    "        \n",
    "        \n",
    "    #creating a list of unique programming languges from the colum with predefined function\n",
    "    \"\"\" predefined function\"\"\"\n",
    "    ProgLangList = Prog_Lang_list(df[colName])\n",
    "        \n",
    "    #subsetting the main dataframe with only the programing lang. column according to its predefined name in the data set\n",
    "    # previously exctracted \n",
    "        \n",
    "    df_subset= df[[colName]]\n",
    "    df_subset.dropna(inplace=True)\n",
    "        \n",
    "    # creating columns from the separated programing languges names, and filling the columns with 0': dummy variables\n",
    "        \n",
    "    df_subset[ProgLangList] = 0\n",
    "        \n",
    "    # removing c++ from the languages list, it created with the subqequent for loop some issue\n",
    "    # due to the implementation of Regex\n",
    "        \n",
    "    if 'c++' in ProgLangList:\n",
    "        ProgLangList.remove('c++')\n",
    "        \n",
    "        # filling each single programing language col. with 1 where the language is present in the string, in the row \n",
    "        for lang in ProgLangList:\n",
    "            df_subset.loc[df_subset[colName].str.lower().str.contains(';{0};|;{0}$|^{0};|^{0}$'.format(lang), regex=True), lang] = 1\n",
    "        \n",
    "        # filling the c++ column, where c++ is present in each row, where languges strings contains c++\n",
    "            \n",
    "        df_subset.loc[df_subset[colName].str.lower().str.contains(';c\\+\\+;|;c\\+\\+$|^c\\+\\+;|^c\\+\\+$', regex=True), 'c++'] = 1\n",
    "         \n",
    "        \n",
    "    else:\n",
    "            \n",
    "        for lang in ProgLangList:\n",
    "            df_subset.loc[df_subset[colName].str.lower().str.contains(';{0};|;{0}$|^{0};|^{0}$'.format(lang), regex=True), lang] = 1\n",
    "        \n",
    "        \n",
    "        \n",
    "    #subsetting the dataframe with dummy variables only \n",
    "    df_subset = df_subset.iloc[0: , 1:]\n",
    "        \n",
    "    # summing the dummy variables and creating a dataframe of languages count in the survey and sorting in Asc.\n",
    "        \n",
    "    PrLang = list(df_subset.sum(axis=0).sort_values().reset_index()['index'])\n",
    "        \n",
    "    count = list(df_subset.sum(axis=0).sort_values().reset_index()[0])\n",
    "        \n",
    "    dfLang= pd.DataFrame({'PrLang':PrLang, 'count':count})\n",
    "    \n",
    "    return dfLang\n",
    "        "
   ]
  },
  {
   "cell_type": "code",
   "execution_count": 6,
   "id": "informative-block",
   "metadata": {},
   "outputs": [],
   "source": [
    "def Visualize():\n",
    "\n",
    "    \"\"\" Function to read csv file with embedded functions\n",
    "    and visualize braplots of programming languges in order\"\"\"\n",
    "\n",
    "    \n",
    "    # first conditionned input to chose to read all csv or a particular year of survey results\n",
    "    # raising an Error as per the set and allowed inputs with try-except block\n",
    "    \n",
    "    condition= True \n",
    "    \n",
    "    while condition:\n",
    "        \n",
    "        try:\n",
    "            answer= input('Would you like the surveys data and visualize barplots of programming lang. for the last 6 years? Please Type: Y or N ')\n",
    "            \n",
    "            if answer.lower().strip() not in ['n', 'y']:\n",
    "                raise ValueError\n",
    "                \n",
    "        except(ValueError):\n",
    "            print('Oops! please enter y or n')\n",
    "            continue\n",
    "            \n",
    "        condition = False\n",
    "        \n",
    "    \n",
    "    \"\"\" if the user chose No, and would like to specify the the csv year to read and visualize\"\"\"\n",
    "    \n",
    "    #second condition if the user chose no, choice to read a specific year of survey data over the past 6 years\n",
    "    \n",
    "    if answer.lower().strip() == 'n':\n",
    "        \n",
    "        # raising an Error as per the set and allowed inputs with try-except block\n",
    "        condition1 = True\n",
    "        \n",
    "        while condition1:\n",
    "            \n",
    "            try:\n",
    "                \n",
    "                choice = input('Please enter which survey\\'s year data would you like to read and visualize? e.g \"2020\", \"2019\"..? choice from 2020 to 2015 ')\n",
    "                \n",
    "                if choice.strip() not in [str(i) for i in range(2015, 2021)]:\n",
    "                    raise ValueError\n",
    "                    \n",
    "            except(TypeError, ValueError):\n",
    "                print('Oops! please enter a 4 digit year:chose from 2020 -> 2015')\n",
    "                continue\n",
    "                \n",
    "            condition1= False\n",
    "            \n",
    "        \n",
    "        # embedded if-else block if according to the year the user chose \n",
    "        # 2015 survey results has a different column names/ and dataframe structure \n",
    "        \n",
    "        if choice.strip()== '2015':\n",
    "            #reading the csv file with predefined function\n",
    "            \n",
    "            \"\"\" predefined function\"\"\"\n",
    "            data= read_csv2015(choice.strip())\n",
    "            \n",
    "            #ploting the barpot of languages/tech \n",
    "            fig = plt.figure(figsize=(12,7))\n",
    "            plt.xticks(rotation=80)\n",
    "            ax = sns.barplot(x=\"PrLang\", y=\"count\", data=data, ci=None)\n",
    "\n",
    "            sns.despine(ax=ax , top=True, right=True, left=False, bottom=False);\n",
    "        \n",
    "            return 'Barplot of programming languages for the year {}'.format(choice)\n",
    "            \n",
    "            \n",
    "        \n",
    "        else:\n",
    "            # reading the survey data set according to the user choice of year with predefined function\n",
    "            \"\"\" predefined function\"\"\"\n",
    "            data = read_csv(choice.strip())\n",
    "        \n",
    "            # barplot visualization\n",
    "        \n",
    "            fig = plt.figure(figsize=(12,7))\n",
    "            plt.xticks(rotation=80)\n",
    "            ax = sns.barplot(x=\"PrLang\", y=\"count\", data=data, ci=None)\n",
    "\n",
    "            sns.despine(ax=ax , top=True, right=True, left=False, bottom=False);\n",
    "        \n",
    "            return 'Barplot of programming languages for the year {}'.format(choice)\n",
    "\n",
    "    \n",
    "    \n",
    "    \n",
    "    \"\"\" if the user chose Yes, and would like to read and visualize all csv files\"\"\"\n",
    "    \n",
    "    #if the user chose to visualize barplots of programing languges/tech for the past 6 years, since 2020\n",
    "\n",
    "    if answer.lower().strip() == 'y':\n",
    "        \n",
    "        #creating en empty dictionary for the storage of final dataframes of Prog. Lang. and their counts for each year \n",
    "        all_data ={}\n",
    "        \n",
    "        #looping through years and storing in the dictionary each key(year) with each corresponding dataframe as a value\n",
    "        for year in ['2015', '2016', '2017', '2018', '2019', '2020']:\n",
    "            \n",
    "            if year == '2015':\n",
    "                \n",
    "                #reading the csv file with predefined function \n",
    "                #filling dictionary with data set value for the year designated as a key                \n",
    "                \"\"\" predefined function\"\"\"\n",
    "                all_data[year] = read_csv2015(year)\n",
    "                \n",
    "                    \n",
    "            else:\n",
    "                \"\"\" predefined function\"\"\"\n",
    "                all_data[year] = read_csv(year) #reading data set with predefined function\n",
    "                \n",
    "                \n",
    "        \n",
    "        \n",
    "        #visualization of barplots accorss the 6 years, Programming languages count \n",
    "        \n",
    "        fig, axes = plt.subplots(2, 3, figsize=(20, 13)) # creating a 2 rows and 3 column figure \n",
    "        \n",
    "        # title and space adjustment between axes figures\n",
    "        fig.suptitle('programing Lang. for the last 6 years: 2020-> 2015')\n",
    "        plt.subplots_adjust(hspace=0.5)\n",
    "        \n",
    "        # ploting all bar plots according to rows and column coordinates \n",
    "        \n",
    "        g1 = sns.barplot(ax=axes[0, 0], data=all_data['2020'], x='PrLang', y='count')\n",
    "        g1.set_xticklabels(g1.get_xticklabels(), rotation=80)\n",
    "        g1.set_title('2020')\n",
    "        g1.set_xlabel('')\n",
    "        \n",
    "        g2 = sns.barplot(ax=axes[0, 1], data=all_data['2019'], x='PrLang', y='count')\n",
    "        g2.set_xticklabels(g2.get_xticklabels(), rotation=80)\n",
    "        g2.set_title('2019')\n",
    "        g2.set_xlabel('')\n",
    "        g2.set_ylabel('')\n",
    "        \n",
    "        g3 = sns.barplot(ax=axes[0, 2], data=all_data['2018'], x='PrLang', y='count')\n",
    "        g3.set_xticklabels(g3.get_xticklabels(), rotation=80)\n",
    "        g3.set_title('2018')\n",
    "        g3.set_xlabel('')\n",
    "        g3.set_ylabel('')\n",
    "        \n",
    "        g4 = sns.barplot(ax=axes[1, 0], data=all_data['2017'], x='PrLang', y='count')\n",
    "        g4.set_xticklabels(g4.get_xticklabels(), rotation=80)\n",
    "        g4.set_title('2017')\n",
    "        g4.set_xlabel('')\n",
    "        \n",
    "        g5 = sns.barplot(ax=axes[1, 1], data=all_data['2016'], x='PrLang', y='count')\n",
    "        g5.set_xticklabels(g5.get_xticklabels(), rotation=80)\n",
    "        g5.set_title('2016')\n",
    "        g5.set_xlabel('')\n",
    "        g5.set_ylabel('')\n",
    "        \n",
    "        g6 = sns.barplot(ax=axes[1, 2], data=all_data['2015'], x='PrLang', y='count') \n",
    "        g6.set_xticklabels(g6.get_xticklabels(), rotation=80)\n",
    "        g6.set_title('2015')\n",
    "        g6.set_xlabel('')\n",
    "        g6.set_ylabel('')\n",
    "        \n",
    "        return \"Programming languages over the last 6 years\"     "
   ]
  },
  {
   "cell_type": "markdown",
   "id": "interior-profession",
   "metadata": {},
   "source": [
    "#### Question: What are the programming languages mostly used during the past 6 years?"
   ]
  },
  {
   "cell_type": "code",
   "execution_count": 14,
   "id": "parallel-release",
   "metadata": {},
   "outputs": [
    {
     "name": "stdout",
     "output_type": "stream",
     "text": [
      "Would you like the surveys data and visualize barplots of programming lang. for the last 6 years? Please Type: Y or N y\n"
     ]
    },
    {
     "data": {
      "text/plain": [
       "'Programming languages over the last 6 years'"
      ]
     },
     "execution_count": 14,
     "metadata": {},
     "output_type": "execute_result"
    },
    {
     "data": {
      "image/png": "[encoded data removed]",
      "text/plain": [
       "<Figure size 1440x936 with 6 Axes>"
      ]
     },
     "metadata": {
      "needs_background": "light"
     },
     "output_type": "display_data"
    }
   ],
   "source": [
    "Visualize()"
   ]
  },
  {
   "cell_type": "markdown",
   "id": "significant-hygiene",
   "metadata": {},
   "source": [
    "Over the last six years, from 2015 to 2020, it is obvious that Javascript programming language is most used language among respondents on StackOverflow.\n",
    "However, from 2018 to 2020, the trend is clearly for the 3 progrraming languages that are most frequent: html, sql, Javascript. "
   ]
  },
  {
   "cell_type": "markdown",
   "id": "exterior-establishment",
   "metadata": {},
   "source": [
    "***"
   ]
  },
  {
   "cell_type": "markdown",
   "id": "artificial-hands",
   "metadata": {},
   "source": [
    "#### Question: What was the Job satisfaction categories' proportions over the years? "
   ]
  },
  {
   "cell_type": "markdown",
   "id": "virgin-indonesia",
   "metadata": {},
   "source": [
    "Due to differences in column names, and column count from a dataframe to another (year to another) and differences in Job statisfaction labels (count, names): It is not feasible to generalize this process with a function (like previous one) that can undergo the process of reading, re-naming, removing NaN rows with a specific threshold, relabeling categories, ect.\n",
    "To anwer this question, a barplot and a final plotline of proportions of satisfied employee full-time will be visualized, after treating each dataset at a time. the Dataset from 2015 is problematic due to large number of NaN in each row (even when filtered for full-time employees)... "
   ]
  },
  {
   "cell_type": "markdown",
   "id": "cubic-miller",
   "metadata": {},
   "source": [
    "***"
   ]
  },
  {
   "cell_type": "markdown",
   "id": "overall-distance",
   "metadata": {},
   "source": [
    "Survey dataset from 2020"
   ]
  },
  {
   "cell_type": "code",
   "execution_count": 4,
   "id": "postal-trail",
   "metadata": {},
   "outputs": [],
   "source": [
    "#reading the data\n",
    "df2020 = pd.read_csv('survey_results2020.csv')"
   ]
  },
  {
   "cell_type": "code",
   "execution_count": 5,
   "id": "green-cargo",
   "metadata": {},
   "outputs": [],
   "source": [
    "# filtering the data according to full-time employee stricly & dropping the respondent number colum\n",
    "\n",
    "df2020_employed = df2020[df2020.Employment == 'Employed full-time']\n",
    "df2020_employed.drop(['Respondent'], inplace=True, axis=1)"
   ]
  },
  {
   "cell_type": "code",
   "execution_count": 6,
   "id": "therapeutic-collection",
   "metadata": {},
   "outputs": [],
   "source": [
    "# Find sum of NaN values in each row, and store them in a list\n",
    "\n",
    "row_sum_Na = df2020_employed.isnull().sum(axis=1).tolist()"
   ]
  },
  {
   "cell_type": "code",
   "execution_count": 7,
   "id": "north-barrel",
   "metadata": {},
   "outputs": [],
   "source": [
    "# find indices where sum of Na in each row is 15 or above (computed according to col nbr), \n",
    "# which mean 25% of the row has Null values\n",
    "\n",
    "indices = [index for index, element in enumerate(row_sum_Na) if element >= 15]"
   ]
  },
  {
   "cell_type": "code",
   "execution_count": 8,
   "id": "hispanic-catch",
   "metadata": {},
   "outputs": [],
   "source": [
    "# Drop the rows from the DataFrame where the row has 25% and more of NaN values\n",
    "\n",
    "df2020_employed.drop(df2020_employed.index[indices], inplace=True)"
   ]
  },
  {
   "cell_type": "code",
   "execution_count": 9,
   "id": "orange-complexity",
   "metadata": {},
   "outputs": [
    {
     "data": {
      "text/plain": [
       "array(['Slightly dissatisfied', 'Very satisfied', 'Very dissatisfied',\n",
       "       'Slightly satisfied', 'Neither satisfied nor dissatisfied', nan],\n",
       "      dtype=object)"
      ]
     },
     "execution_count": 9,
     "metadata": {},
     "output_type": "execute_result"
    }
   ],
   "source": [
    "# unique Job satisfaction categories \n",
    "df2020_employed.JobSat.unique()"
   ]
  },
  {
   "cell_type": "code",
   "execution_count": 10,
   "id": "intended-forestry",
   "metadata": {},
   "outputs": [],
   "source": [
    "#Before re labelling and reducing the Job Satisfaction to 3 levels : dissatisfied, Neutral, Satisfied\n",
    "# rows in the dataframe that have NaN values in JobSat colum, will be removed\n",
    "\n",
    "df2020_employed.drop(df2020_employed[df2020_employed['JobSat'].isnull()].index, inplace = True)"
   ]
  },
  {
   "cell_type": "code",
   "execution_count": 11,
   "id": "subjective-departure",
   "metadata": {},
   "outputs": [],
   "source": [
    "# create the new JobSatisfaction column with 3 labels only -relabeling. \n",
    "\n",
    "conditions =[(df2020_employed.JobSat == 'Slightly dissatisfied') | (df2020_employed.JobSat == 'Very dissatisfied'),\n",
    "            (df2020_employed.JobSat == 'Slightly satisfied') | (df2020_employed.JobSat == 'Very satisfied'),\n",
    "            (df2020_employed.JobSat == 'Neither satisfied nor dissatisfied')]\n",
    "\n",
    "values = ['dissatisfied', 'satisfied', 'neutral']\n",
    "\n",
    "df2020_employed['JobSatisfaction'] = np.select(conditions, values)"
   ]
  },
  {
   "cell_type": "code",
   "execution_count": 12,
   "id": "sufficient-metro",
   "metadata": {},
   "outputs": [
    {
     "data": {
      "text/plain": [
       "array(['dissatisfied', 'satisfied', 'neutral'], dtype=object)"
      ]
     },
     "execution_count": 12,
     "metadata": {},
     "output_type": "execute_result"
    }
   ],
   "source": [
    "df2020_employed['JobSatisfaction'].unique()"
   ]
  },
  {
   "cell_type": "code",
   "execution_count": 13,
   "id": "beautiful-bahrain",
   "metadata": {},
   "outputs": [],
   "source": [
    "# Drop the old JobSat column\n",
    "\n",
    "df2020_employed.drop(['JobSat'], inplace=True, axis=1)"
   ]
  },
  {
   "cell_type": "code",
   "execution_count": 14,
   "id": "suspected-breakdown",
   "metadata": {},
   "outputs": [],
   "source": [
    "# create a small dataframe of Job Satisfaction counts for the year 2020\n",
    "df2020_empl_JobSat = pd.DataFrame(df2020_employed.JobSatisfaction.value_counts().reset_index())"
   ]
  },
  {
   "cell_type": "code",
   "execution_count": 15,
   "id": "absolute-glucose",
   "metadata": {},
   "outputs": [],
   "source": [
    "df2020_empl_JobSat.columns =['JobSatisfaction', 'count']"
   ]
  },
  {
   "cell_type": "code",
   "execution_count": 16,
   "id": "impressive-index",
   "metadata": {},
   "outputs": [
    {
     "data": {
      "text/html": [
       "<div>\n",
       "<style scoped>\n",
       "    .dataframe tbody tr th:only-of-type {\n",
       "        vertical-align: middle;\n",
       "    }\n",
       "\n",
       "    .dataframe tbody tr th {\n",
       "        vertical-align: top;\n",
       "    }\n",
       "\n",
       "    .dataframe thead th {\n",
       "        text-align: right;\n",
       "    }\n",
       "</style>\n",
       "<table border=\"1\" class=\"dataframe\">\n",
       "  <thead>\n",
       "    <tr style=\"text-align: right;\">\n",
       "      <th></th>\n",
       "      <th>JobSatisfaction</th>\n",
       "      <th>count</th>\n",
       "    </tr>\n",
       "  </thead>\n",
       "  <tbody>\n",
       "    <tr>\n",
       "      <th>0</th>\n",
       "      <td>satisfied</td>\n",
       "      <td>22366</td>\n",
       "    </tr>\n",
       "    <tr>\n",
       "      <th>1</th>\n",
       "      <td>dissatisfied</td>\n",
       "      <td>8562</td>\n",
       "    </tr>\n",
       "    <tr>\n",
       "      <th>2</th>\n",
       "      <td>neutral</td>\n",
       "      <td>4252</td>\n",
       "    </tr>\n",
       "  </tbody>\n",
       "</table>\n",
       "</div>"
      ],
      "text/plain": [
       "  JobSatisfaction  count\n",
       "0       satisfied  22366\n",
       "1    dissatisfied   8562\n",
       "2         neutral   4252"
      ]
     },
     "execution_count": 16,
     "metadata": {},
     "output_type": "execute_result"
    }
   ],
   "source": [
    "df2020_empl_JobSat"
   ]
  },
  {
   "cell_type": "markdown",
   "id": "regulated-equilibrium",
   "metadata": {},
   "source": [
    "***"
   ]
  },
  {
   "cell_type": "markdown",
   "id": "african-japan",
   "metadata": {},
   "source": [
    "Survey dataset from 2019"
   ]
  },
  {
   "cell_type": "code",
   "execution_count": 17,
   "id": "finished-enhancement",
   "metadata": {},
   "outputs": [],
   "source": [
    "df2019 = pd.read_csv('survey_results2019.csv')"
   ]
  },
  {
   "cell_type": "code",
   "execution_count": 18,
   "id": "stuffed-collapse",
   "metadata": {},
   "outputs": [],
   "source": [
    "df2019_employed = df2019[df2019.Employment == 'Employed full-time'] #select only emplyed full time \n",
    "df2019_employed.drop(['Respondent'], inplace=True, axis=1) # drop respondent colum"
   ]
  },
  {
   "cell_type": "code",
   "execution_count": 19,
   "id": "standard-norwegian",
   "metadata": {},
   "outputs": [],
   "source": [
    "# Find sum of NaN values in each row, and store them in a list \n",
    "\n",
    "row_sum_Na = df2019_employed.isnull().sum(axis=1).tolist()"
   ]
  },
  {
   "cell_type": "code",
   "execution_count": 20,
   "id": "realistic-vitamin",
   "metadata": {},
   "outputs": [],
   "source": [
    "# find indices where sum of Na in each row is 21 or above (computed according to col nbr), \n",
    "# which mean 25% of the row has Null values\n",
    "\n",
    "indices = [index for index, element in enumerate(row_sum_Na) if element >= 21]"
   ]
  },
  {
   "cell_type": "code",
   "execution_count": 21,
   "id": "incoming-extraction",
   "metadata": {},
   "outputs": [],
   "source": [
    "# Drop the rows from the DataFrame where the row has 25% and more NaN values\n",
    "\n",
    "df2019_employed.drop(df2019_employed.index[indices], inplace=True)"
   ]
  },
  {
   "cell_type": "code",
   "execution_count": 22,
   "id": "given-allocation",
   "metadata": {},
   "outputs": [
    {
     "data": {
      "text/plain": [
       "array(['Slightly satisfied', 'Slightly dissatisfied', 'Very satisfied',\n",
       "       'Neither satisfied nor dissatisfied', 'Very dissatisfied', nan],\n",
       "      dtype=object)"
      ]
     },
     "execution_count": 22,
     "metadata": {},
     "output_type": "execute_result"
    }
   ],
   "source": [
    "df2019_employed.JobSat.unique()"
   ]
  },
  {
   "cell_type": "code",
   "execution_count": 23,
   "id": "incorporate-privacy",
   "metadata": {},
   "outputs": [],
   "source": [
    "#Before re labelling and reducing the Job Satisfaction to 3 levels : dissatisfied, Neutral, Satisfied\n",
    "# rows in the dataframe that have NaN values in JobSat colum, will be removed\n",
    "\n",
    "df2019_employed.drop(df2019_employed[df2019_employed['JobSat'].isnull()].index, inplace = True)"
   ]
  },
  {
   "cell_type": "code",
   "execution_count": 24,
   "id": "reserved-string",
   "metadata": {},
   "outputs": [],
   "source": [
    "# create the new JobSatisfaction column with 3 labels only -relabeling  \n",
    "\n",
    "conditions =[(df2019_employed.JobSat == 'Slightly dissatisfied') | (df2019_employed.JobSat == 'Very dissatisfied'),\n",
    "            (df2019_employed.JobSat == 'Slightly satisfied') | (df2019_employed.JobSat == 'Very satisfied'),\n",
    "            (df2019_employed.JobSat == 'Neither satisfied nor dissatisfied')]\n",
    "\n",
    "values = ['dissatisfied', 'satisfied', 'neutral']\n",
    "\n",
    "df2019_employed['JobSatisfaction'] = np.select(conditions, values)"
   ]
  },
  {
   "cell_type": "code",
   "execution_count": 25,
   "id": "separated-mongolia",
   "metadata": {},
   "outputs": [
    {
     "data": {
      "text/plain": [
       "array(['satisfied', 'dissatisfied', 'neutral'], dtype=object)"
      ]
     },
     "execution_count": 25,
     "metadata": {},
     "output_type": "execute_result"
    }
   ],
   "source": [
    "df2019_employed['JobSatisfaction'].unique()"
   ]
  },
  {
   "cell_type": "code",
   "execution_count": 26,
   "id": "preceding-circus",
   "metadata": {},
   "outputs": [],
   "source": [
    "# Drop the old JobSat column\n",
    "df2019_employed.drop(['JobSat'], inplace=True, axis=1)"
   ]
  },
  {
   "cell_type": "code",
   "execution_count": 27,
   "id": "sticky-choice",
   "metadata": {},
   "outputs": [
    {
     "data": {
      "text/html": [
       "<div>\n",
       "<style scoped>\n",
       "    .dataframe tbody tr th:only-of-type {\n",
       "        vertical-align: middle;\n",
       "    }\n",
       "\n",
       "    .dataframe tbody tr th {\n",
       "        vertical-align: top;\n",
       "    }\n",
       "\n",
       "    .dataframe thead th {\n",
       "        text-align: right;\n",
       "    }\n",
       "</style>\n",
       "<table border=\"1\" class=\"dataframe\">\n",
       "  <thead>\n",
       "    <tr style=\"text-align: right;\">\n",
       "      <th></th>\n",
       "      <th>JobSatisfaction</th>\n",
       "      <th>count</th>\n",
       "    </tr>\n",
       "  </thead>\n",
       "  <tbody>\n",
       "    <tr>\n",
       "      <th>0</th>\n",
       "      <td>satisfied</td>\n",
       "      <td>39700</td>\n",
       "    </tr>\n",
       "    <tr>\n",
       "      <th>1</th>\n",
       "      <td>dissatisfied</td>\n",
       "      <td>13380</td>\n",
       "    </tr>\n",
       "    <tr>\n",
       "      <th>2</th>\n",
       "      <td>neutral</td>\n",
       "      <td>7035</td>\n",
       "    </tr>\n",
       "  </tbody>\n",
       "</table>\n",
       "</div>"
      ],
      "text/plain": [
       "  JobSatisfaction  count\n",
       "0       satisfied  39700\n",
       "1    dissatisfied  13380\n",
       "2         neutral   7035"
      ]
     },
     "execution_count": 27,
     "metadata": {},
     "output_type": "execute_result"
    }
   ],
   "source": [
    "# create a small dataframe of Job Satisfaction counts for the year 2019\n",
    "df2019_empl_JobSat = pd.DataFrame(df2019_employed.JobSatisfaction.value_counts().reset_index())\n",
    "df2019_empl_JobSat.columns =['JobSatisfaction', 'count'] # rename columns \n",
    "df2019_empl_JobSat"
   ]
  },
  {
   "cell_type": "markdown",
   "id": "compressed-hydrogen",
   "metadata": {},
   "source": [
    "***"
   ]
  },
  {
   "cell_type": "markdown",
   "id": "threaded-tucson",
   "metadata": {},
   "source": [
    "Survey Dataset from 2018"
   ]
  },
  {
   "cell_type": "code",
   "execution_count": 28,
   "id": "serious-netscape",
   "metadata": {},
   "outputs": [],
   "source": [
    "df2018 = pd.read_csv('survey_results2018.csv')"
   ]
  },
  {
   "cell_type": "code",
   "execution_count": 29,
   "id": "extensive-cleanup",
   "metadata": {},
   "outputs": [],
   "source": [
    "df2018_employed = df2018[df2018.Employment == 'Employed full-time'] #select only employed full time \n",
    "df2018_employed.drop(['Respondent'], inplace=True, axis=1) # drop respondent colum"
   ]
  },
  {
   "cell_type": "code",
   "execution_count": 30,
   "id": "widespread-essence",
   "metadata": {},
   "outputs": [],
   "source": [
    "# Find sum of NaN values in each row, and store them in a list \n",
    "\n",
    "row_sum_Na = df2018_employed.isnull().sum(axis=1).tolist()"
   ]
  },
  {
   "cell_type": "code",
   "execution_count": 31,
   "id": "continued-watershed",
   "metadata": {},
   "outputs": [],
   "source": [
    "# find indices where sum of Na in each row is 32 or above (computed according to col. nbr), \n",
    "#which mean 25% of the row has Null values \n",
    "\n",
    "indices = [index for index, element in enumerate(row_sum_Na) if element >= 32]"
   ]
  },
  {
   "cell_type": "code",
   "execution_count": 32,
   "id": "renewable-sweden",
   "metadata": {},
   "outputs": [],
   "source": [
    "# Drop the rows from the DataFrame where the row has 25% and more NaN values\n",
    "\n",
    "df2018_employed.drop(df2018_employed.index[indices], inplace=True)"
   ]
  },
  {
   "cell_type": "code",
   "execution_count": 33,
   "id": "interpreted-fifteen",
   "metadata": {},
   "outputs": [
    {
     "data": {
      "text/plain": [
       "array(['Moderately dissatisfied', 'Slightly satisfied',\n",
       "       'Moderately satisfied', 'Neither satisfied nor dissatisfied',\n",
       "       'Extremely satisfied', 'Slightly dissatisfied',\n",
       "       'Extremely dissatisfied', nan], dtype=object)"
      ]
     },
     "execution_count": 33,
     "metadata": {},
     "output_type": "execute_result"
    }
   ],
   "source": [
    "df2018_employed.JobSatisfaction.unique()"
   ]
  },
  {
   "cell_type": "code",
   "execution_count": 34,
   "id": "virtual-oklahoma",
   "metadata": {},
   "outputs": [],
   "source": [
    "#Before re labelling and reducing the Job Satisfaction to 3 levels : dissatisfied, Neutral, Satisfied\n",
    "# rows in the dataframe that have NaN values in JobSat colum, will be removed\n",
    "\n",
    "df2018_employed.drop(df2018_employed[df2018_employed['JobSatisfaction'].isnull()].index, inplace = True)"
   ]
  },
  {
   "cell_type": "code",
   "execution_count": 35,
   "id": "working-cleaner",
   "metadata": {},
   "outputs": [],
   "source": [
    "# create the new JobSatisfaction column with 3 labels only -relabeling \n",
    "\n",
    "conditions =[(df2018_employed.JobSatisfaction == 'Slightly dissatisfied') |\n",
    "             (df2018_employed.JobSatisfaction == 'Moderately dissatisfied') | \n",
    "             (df2018_employed.JobSatisfaction == 'Extremely dissatisfied'),\n",
    "            (df2018_employed.JobSatisfaction == 'Slightly satisfied') | \n",
    "             (df2018_employed.JobSatisfaction == 'Moderately satisfied') |\n",
    "             (df2018_employed.JobSatisfaction == 'Extremely satisfied'),\n",
    "            (df2018_employed.JobSatisfaction == 'Neither satisfied nor dissatisfied')]\n",
    "\n",
    "values = ['dissatisfied', 'satisfied', 'neutral']\n",
    "\n",
    "df2018_employed['Job_Satisfaction'] = np.select(conditions, values)"
   ]
  },
  {
   "cell_type": "code",
   "execution_count": 36,
   "id": "baking-exposure",
   "metadata": {},
   "outputs": [
    {
     "data": {
      "text/plain": [
       "array(['dissatisfied', 'satisfied', 'neutral'], dtype=object)"
      ]
     },
     "execution_count": 36,
     "metadata": {},
     "output_type": "execute_result"
    }
   ],
   "source": [
    "df2018_employed['Job_Satisfaction'].unique()"
   ]
  },
  {
   "cell_type": "code",
   "execution_count": 37,
   "id": "looking-channel",
   "metadata": {},
   "outputs": [],
   "source": [
    "# Drop the old JobSat column\n",
    "df2018_employed.drop(['JobSatisfaction'], inplace=True, axis=1)"
   ]
  },
  {
   "cell_type": "code",
   "execution_count": 38,
   "id": "responsible-evidence",
   "metadata": {},
   "outputs": [
    {
     "data": {
      "text/html": [
       "<div>\n",
       "<style scoped>\n",
       "    .dataframe tbody tr th:only-of-type {\n",
       "        vertical-align: middle;\n",
       "    }\n",
       "\n",
       "    .dataframe tbody tr th {\n",
       "        vertical-align: top;\n",
       "    }\n",
       "\n",
       "    .dataframe thead th {\n",
       "        text-align: right;\n",
       "    }\n",
       "</style>\n",
       "<table border=\"1\" class=\"dataframe\">\n",
       "  <thead>\n",
       "    <tr style=\"text-align: right;\">\n",
       "      <th></th>\n",
       "      <th>JobSatisfaction</th>\n",
       "      <th>count</th>\n",
       "    </tr>\n",
       "  </thead>\n",
       "  <tbody>\n",
       "    <tr>\n",
       "      <th>0</th>\n",
       "      <td>satisfied</td>\n",
       "      <td>31292</td>\n",
       "    </tr>\n",
       "    <tr>\n",
       "      <th>1</th>\n",
       "      <td>dissatisfied</td>\n",
       "      <td>10519</td>\n",
       "    </tr>\n",
       "    <tr>\n",
       "      <th>2</th>\n",
       "      <td>neutral</td>\n",
       "      <td>2694</td>\n",
       "    </tr>\n",
       "  </tbody>\n",
       "</table>\n",
       "</div>"
      ],
      "text/plain": [
       "  JobSatisfaction  count\n",
       "0       satisfied  31292\n",
       "1    dissatisfied  10519\n",
       "2         neutral   2694"
      ]
     },
     "execution_count": 38,
     "metadata": {},
     "output_type": "execute_result"
    }
   ],
   "source": [
    "# create a small dataframe of Job Satisfaction counts for the year 2019\n",
    "df2018_empl_JobSat = pd.DataFrame(df2018_employed.Job_Satisfaction.value_counts().reset_index())\n",
    "df2018_empl_JobSat.columns =['JobSatisfaction', 'count'] # rename columns \n",
    "df2018_empl_JobSat"
   ]
  },
  {
   "cell_type": "markdown",
   "id": "deadly-growing",
   "metadata": {},
   "source": [
    "***"
   ]
  },
  {
   "cell_type": "markdown",
   "id": "intense-cross",
   "metadata": {},
   "source": [
    "Survey Dataset from year 2017 "
   ]
  },
  {
   "cell_type": "code",
   "execution_count": 39,
   "id": "taken-germany",
   "metadata": {},
   "outputs": [],
   "source": [
    "df2017 = pd.read_csv('survey_results2017.csv')"
   ]
  },
  {
   "cell_type": "code",
   "execution_count": 40,
   "id": "personal-cleveland",
   "metadata": {},
   "outputs": [],
   "source": [
    "df2017_employed = df2017[df2017.EmploymentStatus == 'Employed full-time'] #select only emplyed full time \n",
    "df2017_employed.drop(['Respondent'], inplace=True, axis=1) # drop respondent colum"
   ]
  },
  {
   "cell_type": "code",
   "execution_count": 41,
   "id": "frank-advocate",
   "metadata": {},
   "outputs": [],
   "source": [
    "# Find sum of NaN values in each row, and store them in a list \n",
    "\n",
    "row_sum_Na = df2017_employed.isnull().sum(axis=1).tolist()"
   ]
  },
  {
   "cell_type": "code",
   "execution_count": 42,
   "id": "mental-soviet",
   "metadata": {},
   "outputs": [],
   "source": [
    "# find indices where sum of Na in each row is 38 or above (computed according to col. nbr), \n",
    "#which means 25% of the row has Null values \n",
    "\n",
    "indices = [index for index, element in enumerate(row_sum_Na) if element >= 38]"
   ]
  },
  {
   "cell_type": "code",
   "execution_count": 43,
   "id": "behind-newspaper",
   "metadata": {},
   "outputs": [],
   "source": [
    "# Drop the rows from the DataFrame where the row has 25% and more NaN values\n",
    "\n",
    "df2017_employed.drop(df2017_employed.index[indices], inplace=True)"
   ]
  },
  {
   "cell_type": "code",
   "execution_count": 44,
   "id": "enormous-optics",
   "metadata": {},
   "outputs": [
    {
     "data": {
      "text/plain": [
       "array([ 7.,  6.,  8.,  4.,  5.,  9.,  3., 10.,  2.,  1.,  0., nan])"
      ]
     },
     "execution_count": 44,
     "metadata": {},
     "output_type": "execute_result"
    }
   ],
   "source": [
    "df2017_employed.JobSatisfaction.unique()"
   ]
  },
  {
   "cell_type": "markdown",
   "id": "nearby-launch",
   "metadata": {},
   "source": [
    "job statisfaction in the 2017 survey is numercial on a scale from 0 to 10. (considering 10 very much satisfied-and above 5 and 5 neutral and below 5 dissatisfied)"
   ]
  },
  {
   "cell_type": "code",
   "execution_count": 45,
   "id": "twelve-nickname",
   "metadata": {},
   "outputs": [],
   "source": [
    "#Before re labelling and reducing the Job Satisfaction to 3 levels : dissatisfied, Neutral, Satisfied\n",
    "# rows in the dataframe that have NaN values in JobSat colum, will be removed\n",
    "\n",
    "df2017_employed.drop(df2017_employed[df2017_employed['JobSatisfaction'].isnull()].index, inplace = True)"
   ]
  },
  {
   "cell_type": "code",
   "execution_count": 46,
   "id": "second-yesterday",
   "metadata": {},
   "outputs": [],
   "source": [
    "# create the new JobSatisfaction column with 3 labels only -relabeling\n",
    "\n",
    "conditions =[(df2017_employed.JobSatisfaction < 5),\n",
    "             (df2017_employed.JobSatisfaction > 5),\n",
    "            (df2017_employed.JobSatisfaction ==  5)]\n",
    "\n",
    "values = ['dissatisfied', 'satisfied', 'neutral']\n",
    "\n",
    "df2017_employed['Job_Satisfaction'] = np.select(conditions, values)"
   ]
  },
  {
   "cell_type": "code",
   "execution_count": 47,
   "id": "arctic-policy",
   "metadata": {},
   "outputs": [
    {
     "data": {
      "text/plain": [
       "array(['satisfied', 'dissatisfied', 'neutral'], dtype=object)"
      ]
     },
     "execution_count": 47,
     "metadata": {},
     "output_type": "execute_result"
    }
   ],
   "source": [
    "df2017_employed['Job_Satisfaction'].unique()"
   ]
  },
  {
   "cell_type": "code",
   "execution_count": 48,
   "id": "generic-sailing",
   "metadata": {},
   "outputs": [],
   "source": [
    "# Drop the old JobSat column\n",
    "df2017_employed.drop(['JobSatisfaction'], inplace=True, axis=1)"
   ]
  },
  {
   "cell_type": "code",
   "execution_count": 49,
   "id": "cutting-google",
   "metadata": {},
   "outputs": [
    {
     "data": {
      "text/html": [
       "<div>\n",
       "<style scoped>\n",
       "    .dataframe tbody tr th:only-of-type {\n",
       "        vertical-align: middle;\n",
       "    }\n",
       "\n",
       "    .dataframe tbody tr th {\n",
       "        vertical-align: top;\n",
       "    }\n",
       "\n",
       "    .dataframe thead th {\n",
       "        text-align: right;\n",
       "    }\n",
       "</style>\n",
       "<table border=\"1\" class=\"dataframe\">\n",
       "  <thead>\n",
       "    <tr style=\"text-align: right;\">\n",
       "      <th></th>\n",
       "      <th>JobSatisfaction</th>\n",
       "      <th>count</th>\n",
       "    </tr>\n",
       "  </thead>\n",
       "  <tbody>\n",
       "    <tr>\n",
       "      <th>0</th>\n",
       "      <td>satisfied</td>\n",
       "      <td>5432</td>\n",
       "    </tr>\n",
       "    <tr>\n",
       "      <th>1</th>\n",
       "      <td>dissatisfied</td>\n",
       "      <td>1140</td>\n",
       "    </tr>\n",
       "    <tr>\n",
       "      <th>2</th>\n",
       "      <td>neutral</td>\n",
       "      <td>760</td>\n",
       "    </tr>\n",
       "  </tbody>\n",
       "</table>\n",
       "</div>"
      ],
      "text/plain": [
       "  JobSatisfaction  count\n",
       "0       satisfied   5432\n",
       "1    dissatisfied   1140\n",
       "2         neutral    760"
      ]
     },
     "execution_count": 49,
     "metadata": {},
     "output_type": "execute_result"
    }
   ],
   "source": [
    "# create a dataframe of job satisfaction count for the year 2017 \n",
    "df2017_empl_JobSat = pd.DataFrame(df2017_employed.Job_Satisfaction.value_counts().reset_index())\n",
    "df2017_empl_JobSat.columns =['JobSatisfaction', 'count']\n",
    "df2017_empl_JobSat"
   ]
  },
  {
   "cell_type": "markdown",
   "id": "digital-elder",
   "metadata": {},
   "source": [
    "***"
   ]
  },
  {
   "cell_type": "markdown",
   "id": "mineral-allah",
   "metadata": {},
   "source": [
    "Survey dataset from the year 2016"
   ]
  },
  {
   "cell_type": "code",
   "execution_count": 50,
   "id": "played-regulation",
   "metadata": {},
   "outputs": [],
   "source": [
    "df2016 = pd.read_csv('survey_results2016.csv')"
   ]
  },
  {
   "cell_type": "code",
   "execution_count": 51,
   "id": "driving-ordering",
   "metadata": {},
   "outputs": [],
   "source": [
    "df2016_employed = df2016[df2016.employment_status == 'Employed full-time'] #select only emplyed full time \n",
    "df2016_employed.drop(['Unnamed: 0'], inplace=True, axis=1) # drop respondent colum"
   ]
  },
  {
   "cell_type": "code",
   "execution_count": 52,
   "id": "electoral-traveler",
   "metadata": {},
   "outputs": [],
   "source": [
    "# Find sum of NaN values in each row, and store them in a list \n",
    "\n",
    "row_sum_Na = df2016_employed.isnull().sum(axis=1).tolist()"
   ]
  },
  {
   "cell_type": "code",
   "execution_count": 53,
   "id": "annoying-necessity",
   "metadata": {},
   "outputs": [],
   "source": [
    "# find indices where sum of Na in each row is 16 or above(computed from the col. nbr), \n",
    "#which means 25% of the row has Null values \n",
    "\n",
    "indices = [index for index, element in enumerate(row_sum_Na) if element >= 16]"
   ]
  },
  {
   "cell_type": "code",
   "execution_count": 54,
   "id": "answering-theme",
   "metadata": {},
   "outputs": [],
   "source": [
    "# Drop the rows from the DataFrame where the row has 25% and more NaN values\n",
    "\n",
    "df2016_employed.drop(df2016_employed.index[indices], inplace=True)"
   ]
  },
  {
   "cell_type": "code",
   "execution_count": 55,
   "id": "careful-victorian",
   "metadata": {},
   "outputs": [
    {
     "data": {
      "text/plain": [
       "array(['I love my job', \"I'm somewhat satisfied with my job\",\n",
       "       \"I'm somewhat dissatisfied with my job\",\n",
       "       \"I'm neither satisfied nor dissatisfied\", 'Other (please specify)',\n",
       "       'I hate my job', \"I don't have a job\", nan], dtype=object)"
      ]
     },
     "execution_count": 55,
     "metadata": {},
     "output_type": "execute_result"
    }
   ],
   "source": [
    "df2016_employed.job_satisfaction.unique()"
   ]
  },
  {
   "cell_type": "code",
   "execution_count": 56,
   "id": "vulnerable-style",
   "metadata": {},
   "outputs": [],
   "source": [
    "#Before re labelling and reducing the Job Satisfaction to 3 levels : dissatisfied, Neutral, Satisfied\n",
    "# rows in the dataframe that have NaN values in JobSat colum, will be removed, \n",
    "# wrong label : I do not have a job. should not be here, 'other' should be be here -. all wrong labled rows are droped\n",
    "\n",
    "df2016_employed.drop(df2016_employed[df2016_employed['job_satisfaction'].isnull()].index, inplace = True)\n",
    "df2016_employed.drop(df2016_employed[df2016_employed['job_satisfaction']== \"I don't have a job\"].index, inplace = True)\n",
    "df2016_employed.drop(df2016_employed[df2016_employed['job_satisfaction']== \"Other (please specify)\"].index, inplace = True)"
   ]
  },
  {
   "cell_type": "code",
   "execution_count": 57,
   "id": "utility-progressive",
   "metadata": {},
   "outputs": [
    {
     "data": {
      "text/plain": [
       "array(['I love my job', \"I'm somewhat satisfied with my job\",\n",
       "       \"I'm somewhat dissatisfied with my job\",\n",
       "       \"I'm neither satisfied nor dissatisfied\", 'I hate my job'],\n",
       "      dtype=object)"
      ]
     },
     "execution_count": 57,
     "metadata": {},
     "output_type": "execute_result"
    }
   ],
   "source": [
    "df2016_employed.job_satisfaction.unique()"
   ]
  },
  {
   "cell_type": "code",
   "execution_count": 58,
   "id": "flexible-instrumentation",
   "metadata": {},
   "outputs": [],
   "source": [
    "# create the new JobSatisfaction column with 3 labels only -recategorization \n",
    "\n",
    "conditions =[(df2016_employed.job_satisfaction == 'I hate my job') |\n",
    "             (df2016_employed.job_satisfaction == \"I'm somewhat dissatisfied with my job\"),\n",
    "             (df2016_employed.job_satisfaction == 'I love my job') |\n",
    "             (df2016_employed.job_satisfaction == \"I'm somewhat satisfied with my job\"),\n",
    "            (df2016_employed.job_satisfaction ==  \"I'm neither satisfied nor dissatisfied\")]\n",
    "\n",
    "values = ['dissatisfied', 'satisfied', 'neutral']\n",
    "\n",
    "df2016_employed['JobSatisfaction'] = np.select(conditions, values)"
   ]
  },
  {
   "cell_type": "code",
   "execution_count": 59,
   "id": "rational-grant",
   "metadata": {},
   "outputs": [
    {
     "data": {
      "text/plain": [
       "array(['satisfied', 'dissatisfied', 'neutral'], dtype=object)"
      ]
     },
     "execution_count": 59,
     "metadata": {},
     "output_type": "execute_result"
    }
   ],
   "source": [
    "df2016_employed['JobSatisfaction'].unique()"
   ]
  },
  {
   "cell_type": "code",
   "execution_count": 60,
   "id": "heated-garlic",
   "metadata": {},
   "outputs": [],
   "source": [
    "# Drop the old JobSat column\n",
    "df2016_employed.drop(['job_satisfaction'], inplace=True, axis=1)"
   ]
  },
  {
   "cell_type": "code",
   "execution_count": 61,
   "id": "sixth-thumb",
   "metadata": {},
   "outputs": [
    {
     "data": {
      "text/html": [
       "<div>\n",
       "<style scoped>\n",
       "    .dataframe tbody tr th:only-of-type {\n",
       "        vertical-align: middle;\n",
       "    }\n",
       "\n",
       "    .dataframe tbody tr th {\n",
       "        vertical-align: top;\n",
       "    }\n",
       "\n",
       "    .dataframe thead th {\n",
       "        text-align: right;\n",
       "    }\n",
       "</style>\n",
       "<table border=\"1\" class=\"dataframe\">\n",
       "  <thead>\n",
       "    <tr style=\"text-align: right;\">\n",
       "      <th></th>\n",
       "      <th>JobSatisfaction</th>\n",
       "      <th>count</th>\n",
       "    </tr>\n",
       "  </thead>\n",
       "  <tbody>\n",
       "    <tr>\n",
       "      <th>0</th>\n",
       "      <td>satisfied</td>\n",
       "      <td>21742</td>\n",
       "    </tr>\n",
       "    <tr>\n",
       "      <th>1</th>\n",
       "      <td>dissatisfied</td>\n",
       "      <td>4200</td>\n",
       "    </tr>\n",
       "    <tr>\n",
       "      <th>2</th>\n",
       "      <td>neutral</td>\n",
       "      <td>3226</td>\n",
       "    </tr>\n",
       "  </tbody>\n",
       "</table>\n",
       "</div>"
      ],
      "text/plain": [
       "  JobSatisfaction  count\n",
       "0       satisfied  21742\n",
       "1    dissatisfied   4200\n",
       "2         neutral   3226"
      ]
     },
     "execution_count": 61,
     "metadata": {},
     "output_type": "execute_result"
    }
   ],
   "source": [
    "# create a small dataframe of the job satisfaction count for 2016\n",
    "df2016_empl_JobSat = pd.DataFrame(df2016_employed.JobSatisfaction.value_counts().reset_index())\n",
    "df2016_empl_JobSat.columns =['JobSatisfaction', 'count']\n",
    "df2016_empl_JobSat"
   ]
  },
  {
   "cell_type": "markdown",
   "id": "sweet-makeup",
   "metadata": {},
   "source": [
    "***"
   ]
  },
  {
   "cell_type": "code",
   "execution_count": 62,
   "id": "nutritional-stretch",
   "metadata": {},
   "outputs": [],
   "source": [
    "# storing the dataframes of Job satisfaction categories count in a dictionary \n",
    "\n",
    "keys=['df{}_empl_JobSat'.format(i) for i in range(2016, 2021)]\n",
    "\n",
    "df_empl_JobSat={'df2016_empl_JobSat': df2016_empl_JobSat,\n",
    "                  'df2017_empl_JobSat': df2017_empl_JobSat,\n",
    "                  'df2018_empl_JobSat': df2018_empl_JobSat,\n",
    "                  'df2019_empl_JobSat': df2019_empl_JobSat,\n",
    "                  'df2020_empl_JobSat': df2020_empl_JobSat}"
   ]
  },
  {
   "cell_type": "code",
   "execution_count": 63,
   "id": "global-tract",
   "metadata": {},
   "outputs": [
    {
     "data": {
      "image/png": "[encoded data removed]",
      "text/plain": [
       "<Figure size 1440x936 with 6 Axes>"
      ]
     },
     "metadata": {
      "needs_background": "light"
     },
     "output_type": "display_data"
    }
   ],
   "source": [
    "        #visualization of barplots accorss the 5 years, Job satisfaction categories count \n",
    "        \n",
    "fig, axes = plt.subplots(2, 3, figsize=(20, 13))\n",
    "\n",
    "fig.suptitle('Job satisfaction for the last 5 years: 2020-> 2016')\n",
    "plt.subplots_adjust(hspace=0.5)\n",
    "\n",
    "g1 = sns.barplot(ax=axes[0, 0], data=df_empl_JobSat['df2020_empl_JobSat'], x='JobSatisfaction', y='count')\n",
    "g1.set_xticklabels(g1.get_xticklabels(), rotation=80)\n",
    "g1.set_title('2020')\n",
    "g1.set_xlabel('')\n",
    "        \n",
    "g2 = sns.barplot(ax=axes[0, 1], data=df_empl_JobSat['df2019_empl_JobSat'], x='JobSatisfaction', y='count')\n",
    "g2.set_xticklabels(g2.get_xticklabels(), rotation=80)\n",
    "g2.set_title('2019')\n",
    "g2.set_xlabel('')\n",
    "g2.set_ylabel('')\n",
    "        \n",
    "g3 = sns.barplot(ax=axes[0, 2], data=df_empl_JobSat['df2018_empl_JobSat'], x='JobSatisfaction', y='count')\n",
    "g3.set_xticklabels(g3.get_xticklabels(), rotation=80)\n",
    "g3.set_title('2018')\n",
    "g3.set_xlabel('')\n",
    "g3.set_ylabel('')\n",
    "        \n",
    "g4 = sns.barplot(ax=axes[1, 0], data=df_empl_JobSat['df2017_empl_JobSat'], x='JobSatisfaction', y='count')\n",
    "g4.set_xticklabels(g4.get_xticklabels(), rotation=80)\n",
    "g4.set_title('2017')\n",
    "g4.set_xlabel('')\n",
    "        \n",
    "g5 = sns.barplot(ax=axes[1, 1], data=df_empl_JobSat['df2016_empl_JobSat'], x='JobSatisfaction', y='count')\n",
    "g5.set_xticklabels(g5.get_xticklabels(), rotation=80)\n",
    "g5.set_title('2016')\n",
    "g5.set_xlabel('')\n",
    "g5.set_ylabel('');"
   ]
  },
  {
   "cell_type": "markdown",
   "id": "personal-graduate",
   "metadata": {},
   "source": [
    "The barplot of Job satisfactions over the last 5 years show a consistency of high Job satisfaction compared to Neutral respondents and dissatisfied ones. However, the sample sizes are not consistent from a year to another, which makes the comparison biased. \n",
    "Another visualization can solve this issue and ascertain the comparison from one year to the next, by drawing lineplots of proportions/percentages of each Job satisfaction category in a year. "
   ]
  },
  {
   "cell_type": "markdown",
   "id": "frequent-whole",
   "metadata": {},
   "source": [
    "***"
   ]
  },
  {
   "cell_type": "code",
   "execution_count": 64,
   "id": "graphic-engineer",
   "metadata": {},
   "outputs": [],
   "source": [
    "# compute precentages in df_empl_JobSat dataframes\n",
    "y = 2016\n",
    "for k in keys:\n",
    "    #create a new column of percentages for each dataframe and apply a function that compute %\n",
    "    df_empl_JobSat[k]['Percentages']=df_empl_JobSat[k][['count']].apply(lambda x: 100* x/ float(x.sum())).round(2)\n",
    "    # add a year colum before concatenating the dataframes of each year together\n",
    "    df_empl_JobSat[k]['year'] = y \n",
    "    # increase the year before looping again\n",
    "    y = y+ 1"
   ]
  },
  {
   "cell_type": "code",
   "execution_count": 65,
   "id": "positive-impact",
   "metadata": {},
   "outputs": [
    {
     "data": {
      "text/html": [
       "<div>\n",
       "<style scoped>\n",
       "    .dataframe tbody tr th:only-of-type {\n",
       "        vertical-align: middle;\n",
       "    }\n",
       "\n",
       "    .dataframe tbody tr th {\n",
       "        vertical-align: top;\n",
       "    }\n",
       "\n",
       "    .dataframe thead th {\n",
       "        text-align: right;\n",
       "    }\n",
       "</style>\n",
       "<table border=\"1\" class=\"dataframe\">\n",
       "  <thead>\n",
       "    <tr style=\"text-align: right;\">\n",
       "      <th></th>\n",
       "      <th>JobSatisfaction</th>\n",
       "      <th>count</th>\n",
       "      <th>Percentages</th>\n",
       "      <th>year</th>\n",
       "    </tr>\n",
       "  </thead>\n",
       "  <tbody>\n",
       "    <tr>\n",
       "      <th>0</th>\n",
       "      <td>satisfied</td>\n",
       "      <td>21742</td>\n",
       "      <td>74.54</td>\n",
       "      <td>2016</td>\n",
       "    </tr>\n",
       "    <tr>\n",
       "      <th>1</th>\n",
       "      <td>dissatisfied</td>\n",
       "      <td>4200</td>\n",
       "      <td>14.40</td>\n",
       "      <td>2016</td>\n",
       "    </tr>\n",
       "    <tr>\n",
       "      <th>2</th>\n",
       "      <td>neutral</td>\n",
       "      <td>3226</td>\n",
       "      <td>11.06</td>\n",
       "      <td>2016</td>\n",
       "    </tr>\n",
       "    <tr>\n",
       "      <th>0</th>\n",
       "      <td>satisfied</td>\n",
       "      <td>5432</td>\n",
       "      <td>74.09</td>\n",
       "      <td>2017</td>\n",
       "    </tr>\n",
       "    <tr>\n",
       "      <th>1</th>\n",
       "      <td>dissatisfied</td>\n",
       "      <td>1140</td>\n",
       "      <td>15.55</td>\n",
       "      <td>2017</td>\n",
       "    </tr>\n",
       "    <tr>\n",
       "      <th>2</th>\n",
       "      <td>neutral</td>\n",
       "      <td>760</td>\n",
       "      <td>10.37</td>\n",
       "      <td>2017</td>\n",
       "    </tr>\n",
       "    <tr>\n",
       "      <th>0</th>\n",
       "      <td>satisfied</td>\n",
       "      <td>31292</td>\n",
       "      <td>70.31</td>\n",
       "      <td>2018</td>\n",
       "    </tr>\n",
       "    <tr>\n",
       "      <th>1</th>\n",
       "      <td>dissatisfied</td>\n",
       "      <td>10519</td>\n",
       "      <td>23.64</td>\n",
       "      <td>2018</td>\n",
       "    </tr>\n",
       "    <tr>\n",
       "      <th>2</th>\n",
       "      <td>neutral</td>\n",
       "      <td>2694</td>\n",
       "      <td>6.05</td>\n",
       "      <td>2018</td>\n",
       "    </tr>\n",
       "    <tr>\n",
       "      <th>0</th>\n",
       "      <td>satisfied</td>\n",
       "      <td>39700</td>\n",
       "      <td>66.04</td>\n",
       "      <td>2019</td>\n",
       "    </tr>\n",
       "    <tr>\n",
       "      <th>1</th>\n",
       "      <td>dissatisfied</td>\n",
       "      <td>13380</td>\n",
       "      <td>22.26</td>\n",
       "      <td>2019</td>\n",
       "    </tr>\n",
       "    <tr>\n",
       "      <th>2</th>\n",
       "      <td>neutral</td>\n",
       "      <td>7035</td>\n",
       "      <td>11.70</td>\n",
       "      <td>2019</td>\n",
       "    </tr>\n",
       "    <tr>\n",
       "      <th>0</th>\n",
       "      <td>satisfied</td>\n",
       "      <td>22366</td>\n",
       "      <td>63.58</td>\n",
       "      <td>2020</td>\n",
       "    </tr>\n",
       "    <tr>\n",
       "      <th>1</th>\n",
       "      <td>dissatisfied</td>\n",
       "      <td>8562</td>\n",
       "      <td>24.34</td>\n",
       "      <td>2020</td>\n",
       "    </tr>\n",
       "    <tr>\n",
       "      <th>2</th>\n",
       "      <td>neutral</td>\n",
       "      <td>4252</td>\n",
       "      <td>12.09</td>\n",
       "      <td>2020</td>\n",
       "    </tr>\n",
       "  </tbody>\n",
       "</table>\n",
       "</div>"
      ],
      "text/plain": [
       "  JobSatisfaction  count  Percentages  year\n",
       "0       satisfied  21742        74.54  2016\n",
       "1    dissatisfied   4200        14.40  2016\n",
       "2         neutral   3226        11.06  2016\n",
       "0       satisfied   5432        74.09  2017\n",
       "1    dissatisfied   1140        15.55  2017\n",
       "2         neutral    760        10.37  2017\n",
       "0       satisfied  31292        70.31  2018\n",
       "1    dissatisfied  10519        23.64  2018\n",
       "2         neutral   2694         6.05  2018\n",
       "0       satisfied  39700        66.04  2019\n",
       "1    dissatisfied  13380        22.26  2019\n",
       "2         neutral   7035        11.70  2019\n",
       "0       satisfied  22366        63.58  2020\n",
       "1    dissatisfied   8562        24.34  2020\n",
       "2         neutral   4252        12.09  2020"
      ]
     },
     "execution_count": 65,
     "metadata": {},
     "output_type": "execute_result"
    }
   ],
   "source": [
    "# concatenate all dataframes together\n",
    "my_dfs = [df_empl_JobSat[k] for k in keys]\n",
    "df_employment_Satisfaction = pd.concat(my_dfs)\n",
    "df_employment_Satisfaction"
   ]
  },
  {
   "cell_type": "code",
   "execution_count": 66,
   "id": "fatal-lloyd",
   "metadata": {},
   "outputs": [
    {
     "data": {
      "image/png": "[encoded data removed]",
      "text/plain": [
       "<Figure size 864x504 with 1 Axes>"
      ]
     },
     "metadata": {
      "needs_background": "light"
     },
     "output_type": "display_data"
    }
   ],
   "source": [
    "# visualize lineplots of job satisfactions percentages over the years: 2016 -> 2020\n",
    "plt.figure(figsize=(12,7))\n",
    "plt.title('Full-time Employed Job satisfactions over 4 years: 2016-> 2020')\n",
    "ax = sns.lineplot(data=df_employment_Satisfaction, x=\"year\", y=\"Percentages\", hue=\"JobSatisfaction\",dashes=False,\n",
    "             markers=True, style='JobSatisfaction')\n",
    "sns.despine(ax=ax , top=True, right=True, left=False, bottom=False)\n",
    "ax.set_xticklabels(['','2016','','2017','','2018','','2019','','2020'])\n",
    "ax.xaxis.labelpad = 20\n",
    "ax.yaxis.labelpad = 20;"
   ]
  },
  {
   "cell_type": "markdown",
   "id": "homeless-orientation",
   "metadata": {},
   "source": [
    "Over the years, from 2016 to 2021, the job satisfaction for Full-time employee has declined from ~75% to ~65%. \n",
    "Nevertheless, the symmetry between the 2 lineploints (i.e. Neutral & dissatisfied) is clearly obvious. From 2016 to 2017 the downward trend in Neutral is reciprocated with an unpward trend with the Dissatisfied. This reciprocal nature between Neutral respondents and Dissatisfied is more exposed between 2017 and 2019.\n",
    "For the sake of investigating the significance of the downward trend with satisfied respondent, a Chi-square goodness of fit can be conducted with the various proportion over the 4 years for this category."
   ]
  },
  {
   "cell_type": "markdown",
   "id": "prompt-pointer",
   "metadata": {},
   "source": [
    "Ho: the statisfied proportion of respondent is the same over the years from 2016 to 2020, the decrease is not significant.\n",
    "\n",
    "H1: there is a significance in the decrease of Satisfied proportion of respondent."
   ]
  },
  {
   "cell_type": "code",
   "execution_count": 67,
   "id": "gothic-telescope",
   "metadata": {},
   "outputs": [],
   "source": [
    "#observed proportions of Satisfied over the years: we chose proportions not counts, since the sample size differ\n",
    "# from year to year. proportion is more adequate and standardized. \n",
    "\n",
    "observed =[74.54, 74.09, 70.31, 66.04, 63.58]"
   ]
  },
  {
   "cell_type": "code",
   "execution_count": 68,
   "id": "academic-consciousness",
   "metadata": {},
   "outputs": [
    {
     "data": {
      "text/plain": [
       "69.712"
      ]
     },
     "execution_count": 68,
     "metadata": {},
     "output_type": "execute_result"
    }
   ],
   "source": [
    "(74.54+74.09+70.31+66.04+63.58)/5 # expected considering all proportions are the same. "
   ]
  },
  {
   "cell_type": "code",
   "execution_count": 69,
   "id": "usual-idaho",
   "metadata": {},
   "outputs": [],
   "source": [
    "expected = [69.71, 69.712, 69.712, 69.712, 69.712]"
   ]
  },
  {
   "cell_type": "code",
   "execution_count": 70,
   "id": "desirable-married",
   "metadata": {},
   "outputs": [
    {
     "data": {
      "text/plain": [
       "Power_divergenceResult(statistic=1.3475307739394617, pvalue=0.8532611907182079)"
      ]
     },
     "execution_count": 70,
     "metadata": {},
     "output_type": "execute_result"
    }
   ],
   "source": [
    "#perform Chi-Square Goodness of Fit Test\n",
    "\n",
    "stats.chisquare(f_obs=observed, f_exp=expected)"
   ]
  },
  {
   "cell_type": "markdown",
   "id": "potential-brisbane",
   "metadata": {},
   "source": [
    "p value is not less than 0.05 (5%), we fail to reject the Null hypothesis that claims: all satisfaction proportions over the years are the same and the decrease is not significant."
   ]
  }
 ],
 "metadata": {
  "kernelspec": {
   "display_name": "Python 3",
   "language": "python",
   "name": "python3"
  },
  "language_info": {
   "codemirror_mode": {
    "name": "ipython",
    "version": 3
   },
   "file_extension": ".py",
   "mimetype": "text/x-python",
   "name": "python",
   "nbconvert_exporter": "python",
   "pygments_lexer": "ipython3",
   "version": "3.6.12"
  }
 },
 "nbformat": 4,
 "nbformat_minor": 5
}
